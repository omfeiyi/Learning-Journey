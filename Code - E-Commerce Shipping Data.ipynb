{
 "cells": [
  {
   "cell_type": "markdown",
   "id": "530be61d",
   "metadata": {
    "id": "a4e784a3-e592-496c-9f35-93512122cc11"
   },
   "source": [
    "# Nomor 1\n"
   ]
  },
  {
   "cell_type": "markdown",
   "id": "871b2832",
   "metadata": {
    "id": "lmo5dAPPg4p2"
   },
   "source": [
    "## A. Handle missing values"
   ]
  },
  {
   "cell_type": "code",
   "execution_count": 97,
   "id": "aeb34e9d",
   "metadata": {
    "id": "a86517cc-9f6c-4a76-a797-37d4bdf78fb0"
   },
   "outputs": [],
   "source": [
    "import numpy as np\n",
    "import pandas as pd\n",
    "#Visualization\n",
    "import matplotlib.pyplot as plt\n",
    "import matplotlib.style as style\n",
    "style.use('fivethirtyeight') # use style fivethirtyeight\n",
    "import seaborn as sns\n",
    "from matplotlib import rcParams\n",
    "import warnings \n",
    "warnings.filterwarnings(\"ignore\")\n",
    "# Scaling\n",
    "from sklearn.preprocessing import MinMaxScaler, StandardScaler\n",
    "# Selection\n",
    "# Splitting the data into Train and Test\n",
    "from sklearn.model_selection import train_test_split\n",
    "# Algorithm\n",
    "from sklearn.linear_model import LogisticRegression\n",
    "from sklearn.tree import DecisionTreeClassifier\n",
    "from sklearn.neighbors import KNeighborsClassifier\n",
    "from sklearn.ensemble import RandomForestClassifier\n",
    "# Evaluation metrics\n",
    "from sklearn.metrics import accuracy_score, precision_score, recall_score, f1_score\n",
    "from sklearn.metrics import roc_curve, auc, confusion_matrix, classification_report\n",
    "from sklearn.metrics import plot_confusion_matrix\n",
    "# Hyperparameter tuning\n",
    "from sklearn.model_selection import RandomizedSearchCV, GridSearchCV"
   ]
  },
  {
   "cell_type": "code",
   "execution_count": 2,
   "id": "e5e53958",
   "metadata": {
    "id": "de68ad80-4ca3-446c-8004-7733a56f2e84"
   },
   "outputs": [],
   "source": [
    "df = pd.read_csv('E-commerce shipping data.csv')"
   ]
  },
  {
   "cell_type": "code",
   "execution_count": 3,
   "id": "176c26c5",
   "metadata": {
    "colab": {
     "base_uri": "https://localhost:8080/"
    },
    "id": "04cfab5a-c7e9-4af5-800f-7278207947f9",
    "outputId": "b279f321-f934-4b44-d91d-99b647c838e8"
   },
   "outputs": [
    {
     "name": "stdout",
     "output_type": "stream",
     "text": [
      "<class 'pandas.core.frame.DataFrame'>\n",
      "RangeIndex: 10999 entries, 0 to 10998\n",
      "Data columns (total 12 columns):\n",
      " #   Column               Non-Null Count  Dtype \n",
      "---  ------               --------------  ----- \n",
      " 0   ID                   10999 non-null  int64 \n",
      " 1   Warehouse_block      10999 non-null  object\n",
      " 2   Mode_of_Shipment     10999 non-null  object\n",
      " 3   Customer_care_calls  10999 non-null  int64 \n",
      " 4   Customer_rating      10999 non-null  int64 \n",
      " 5   Cost_of_the_Product  10999 non-null  int64 \n",
      " 6   Prior_purchases      10999 non-null  int64 \n",
      " 7   Product_importance   10999 non-null  object\n",
      " 8   Gender               10999 non-null  object\n",
      " 9   Discount_offered     10999 non-null  int64 \n",
      " 10  Weight_in_gms        10999 non-null  int64 \n",
      " 11  Reached.on.Time_Y.N  10999 non-null  int64 \n",
      "dtypes: int64(8), object(4)\n",
      "memory usage: 1.0+ MB\n"
     ]
    }
   ],
   "source": [
    "df.info()"
   ]
  },
  {
   "cell_type": "code",
   "execution_count": 54,
   "id": "c2efe184",
   "metadata": {},
   "outputs": [
    {
     "data": {
      "text/html": [
       "<div>\n",
       "<style scoped>\n",
       "    .dataframe tbody tr th:only-of-type {\n",
       "        vertical-align: middle;\n",
       "    }\n",
       "\n",
       "    .dataframe tbody tr th {\n",
       "        vertical-align: top;\n",
       "    }\n",
       "\n",
       "    .dataframe thead th {\n",
       "        text-align: right;\n",
       "    }\n",
       "</style>\n",
       "<table border=\"1\" class=\"dataframe\">\n",
       "  <thead>\n",
       "    <tr style=\"text-align: right;\">\n",
       "      <th></th>\n",
       "      <th>ID</th>\n",
       "      <th>Warehouse_block</th>\n",
       "      <th>Mode_of_Shipment</th>\n",
       "      <th>Customer_care_calls</th>\n",
       "      <th>Customer_rating</th>\n",
       "      <th>Cost_of_the_Product</th>\n",
       "      <th>Prior_purchases</th>\n",
       "      <th>Product_importance</th>\n",
       "      <th>Gender</th>\n",
       "      <th>Discount_offered</th>\n",
       "      <th>...</th>\n",
       "      <th>Cost_of_the_Product_norm</th>\n",
       "      <th>Cost_of_the_Product_std</th>\n",
       "      <th>Warehouse_block_A</th>\n",
       "      <th>Warehouse_block_B</th>\n",
       "      <th>Warehouse_block_C</th>\n",
       "      <th>Warehouse_block_D</th>\n",
       "      <th>Warehouse_block_F</th>\n",
       "      <th>Mode_of_Shipment_Flight</th>\n",
       "      <th>Mode_of_Shipment_Road</th>\n",
       "      <th>Mode_of_Shipment_Ship</th>\n",
       "    </tr>\n",
       "  </thead>\n",
       "  <tbody>\n",
       "    <tr>\n",
       "      <th>0</th>\n",
       "      <td>1</td>\n",
       "      <td>D</td>\n",
       "      <td>Flight</td>\n",
       "      <td>4</td>\n",
       "      <td>2</td>\n",
       "      <td>177</td>\n",
       "      <td>3</td>\n",
       "      <td>1</td>\n",
       "      <td>0</td>\n",
       "      <td>3.784190</td>\n",
       "      <td>...</td>\n",
       "      <td>0.378505</td>\n",
       "      <td>-0.692246</td>\n",
       "      <td>0</td>\n",
       "      <td>0</td>\n",
       "      <td>0</td>\n",
       "      <td>1</td>\n",
       "      <td>0</td>\n",
       "      <td>1</td>\n",
       "      <td>0</td>\n",
       "      <td>0</td>\n",
       "    </tr>\n",
       "    <tr>\n",
       "      <th>1</th>\n",
       "      <td>2</td>\n",
       "      <td>F</td>\n",
       "      <td>Flight</td>\n",
       "      <td>4</td>\n",
       "      <td>5</td>\n",
       "      <td>216</td>\n",
       "      <td>2</td>\n",
       "      <td>1</td>\n",
       "      <td>1</td>\n",
       "      <td>4.077537</td>\n",
       "      <td>...</td>\n",
       "      <td>0.560748</td>\n",
       "      <td>0.117585</td>\n",
       "      <td>0</td>\n",
       "      <td>0</td>\n",
       "      <td>0</td>\n",
       "      <td>0</td>\n",
       "      <td>1</td>\n",
       "      <td>1</td>\n",
       "      <td>0</td>\n",
       "      <td>0</td>\n",
       "    </tr>\n",
       "    <tr>\n",
       "      <th>2</th>\n",
       "      <td>3</td>\n",
       "      <td>A</td>\n",
       "      <td>Flight</td>\n",
       "      <td>2</td>\n",
       "      <td>2</td>\n",
       "      <td>183</td>\n",
       "      <td>4</td>\n",
       "      <td>1</td>\n",
       "      <td>1</td>\n",
       "      <td>3.871201</td>\n",
       "      <td>...</td>\n",
       "      <td>0.406542</td>\n",
       "      <td>-0.567656</td>\n",
       "      <td>1</td>\n",
       "      <td>0</td>\n",
       "      <td>0</td>\n",
       "      <td>0</td>\n",
       "      <td>0</td>\n",
       "      <td>1</td>\n",
       "      <td>0</td>\n",
       "      <td>0</td>\n",
       "    </tr>\n",
       "    <tr>\n",
       "      <th>3</th>\n",
       "      <td>4</td>\n",
       "      <td>B</td>\n",
       "      <td>Flight</td>\n",
       "      <td>3</td>\n",
       "      <td>3</td>\n",
       "      <td>176</td>\n",
       "      <td>4</td>\n",
       "      <td>2</td>\n",
       "      <td>1</td>\n",
       "      <td>2.302585</td>\n",
       "      <td>...</td>\n",
       "      <td>0.373832</td>\n",
       "      <td>-0.713011</td>\n",
       "      <td>0</td>\n",
       "      <td>1</td>\n",
       "      <td>0</td>\n",
       "      <td>0</td>\n",
       "      <td>0</td>\n",
       "      <td>1</td>\n",
       "      <td>0</td>\n",
       "      <td>0</td>\n",
       "    </tr>\n",
       "    <tr>\n",
       "      <th>4</th>\n",
       "      <td>5</td>\n",
       "      <td>C</td>\n",
       "      <td>Flight</td>\n",
       "      <td>2</td>\n",
       "      <td>2</td>\n",
       "      <td>184</td>\n",
       "      <td>3</td>\n",
       "      <td>2</td>\n",
       "      <td>0</td>\n",
       "      <td>3.828641</td>\n",
       "      <td>...</td>\n",
       "      <td>0.411215</td>\n",
       "      <td>-0.546892</td>\n",
       "      <td>0</td>\n",
       "      <td>0</td>\n",
       "      <td>1</td>\n",
       "      <td>0</td>\n",
       "      <td>0</td>\n",
       "      <td>1</td>\n",
       "      <td>0</td>\n",
       "      <td>0</td>\n",
       "    </tr>\n",
       "  </tbody>\n",
       "</table>\n",
       "<p>5 rows × 22 columns</p>\n",
       "</div>"
      ],
      "text/plain": [
       "   ID Warehouse_block Mode_of_Shipment  Customer_care_calls  Customer_rating  \\\n",
       "0   1               D           Flight                    4                2   \n",
       "1   2               F           Flight                    4                5   \n",
       "2   3               A           Flight                    2                2   \n",
       "3   4               B           Flight                    3                3   \n",
       "4   5               C           Flight                    2                2   \n",
       "\n",
       "   Cost_of_the_Product  Prior_purchases  Product_importance  Gender  \\\n",
       "0                  177                3                   1       0   \n",
       "1                  216                2                   1       1   \n",
       "2                  183                4                   1       1   \n",
       "3                  176                4                   2       1   \n",
       "4                  184                3                   2       0   \n",
       "\n",
       "   Discount_offered  ...  Cost_of_the_Product_norm  Cost_of_the_Product_std  \\\n",
       "0          3.784190  ...                  0.378505                -0.692246   \n",
       "1          4.077537  ...                  0.560748                 0.117585   \n",
       "2          3.871201  ...                  0.406542                -0.567656   \n",
       "3          2.302585  ...                  0.373832                -0.713011   \n",
       "4          3.828641  ...                  0.411215                -0.546892   \n",
       "\n",
       "   Warehouse_block_A  Warehouse_block_B  Warehouse_block_C  Warehouse_block_D  \\\n",
       "0                  0                  0                  0                  1   \n",
       "1                  0                  0                  0                  0   \n",
       "2                  1                  0                  0                  0   \n",
       "3                  0                  1                  0                  0   \n",
       "4                  0                  0                  1                  0   \n",
       "\n",
       "   Warehouse_block_F  Mode_of_Shipment_Flight  Mode_of_Shipment_Road  \\\n",
       "0                  0                        1                      0   \n",
       "1                  1                        1                      0   \n",
       "2                  0                        1                      0   \n",
       "3                  0                        1                      0   \n",
       "4                  0                        1                      0   \n",
       "\n",
       "   Mode_of_Shipment_Ship  \n",
       "0                      0  \n",
       "1                      0  \n",
       "2                      0  \n",
       "3                      0  \n",
       "4                      0  \n",
       "\n",
       "[5 rows x 22 columns]"
      ]
     },
     "execution_count": 54,
     "metadata": {},
     "output_type": "execute_result"
    }
   ],
   "source": [
    "df.rename(columns={'Reached.on.Time_Y.N':'is_late'}, inplace=True)\n",
    "df.head()"
   ]
  },
  {
   "cell_type": "code",
   "execution_count": 55,
   "id": "320047ba",
   "metadata": {
    "colab": {
     "base_uri": "https://localhost:8080/"
    },
    "id": "a9225bfe-3066-4ce6-a0ee-54dfe1005e57",
    "outputId": "387fac14-d047-4a3a-cd58-11b08dafb67d"
   },
   "outputs": [
    {
     "data": {
      "text/plain": [
       "ID                          0\n",
       "Warehouse_block             0\n",
       "Mode_of_Shipment            0\n",
       "Customer_care_calls         0\n",
       "Customer_rating             0\n",
       "Cost_of_the_Product         0\n",
       "Prior_purchases             0\n",
       "Product_importance          0\n",
       "Gender                      0\n",
       "Discount_offered            0\n",
       "Weight_in_gms               0\n",
       "is_late                     0\n",
       "Cost_of_the_Product_norm    0\n",
       "Cost_of_the_Product_std     0\n",
       "Warehouse_block_A           0\n",
       "Warehouse_block_B           0\n",
       "Warehouse_block_C           0\n",
       "Warehouse_block_D           0\n",
       "Warehouse_block_F           0\n",
       "Mode_of_Shipment_Flight     0\n",
       "Mode_of_Shipment_Road       0\n",
       "Mode_of_Shipment_Ship       0\n",
       "dtype: int64"
      ]
     },
     "execution_count": 55,
     "metadata": {},
     "output_type": "execute_result"
    }
   ],
   "source": [
    "df.isna().sum()"
   ]
  },
  {
   "cell_type": "markdown",
   "id": "c7b88dd7",
   "metadata": {
    "id": "04a080fe-4bd9-4d2c-8a47-e8b7bac6bcb4"
   },
   "source": [
    "#### Dapat dipastikan bahwa data frame yang digunakan tidak memiliki nilai kosong. Sehingga tidak ada penanganan missing value pada data frame."
   ]
  },
  {
   "cell_type": "markdown",
   "id": "914da817",
   "metadata": {
    "id": "c3d84802-e7da-4777-bdc4-2cdf02e8b920"
   },
   "source": [
    "## B. Duplicated Data Checking"
   ]
  },
  {
   "cell_type": "code",
   "execution_count": 5,
   "id": "e4e2b5a7",
   "metadata": {
    "colab": {
     "base_uri": "https://localhost:8080/"
    },
    "id": "2cd36d3b-068e-4d45-9fd3-b52f7da682dc",
    "outputId": "928aab46-3c98-4a6a-c94a-acd52d81d4c8"
   },
   "outputs": [
    {
     "data": {
      "text/plain": [
       "0"
      ]
     },
     "execution_count": 5,
     "metadata": {},
     "output_type": "execute_result"
    }
   ],
   "source": [
    "df.duplicated().sum()"
   ]
  },
  {
   "cell_type": "code",
   "execution_count": 6,
   "id": "f73d6884",
   "metadata": {
    "colab": {
     "base_uri": "https://localhost:8080/"
    },
    "id": "1fa1d6fd-6f73-4e3b-b5ef-8fa3f028c360",
    "outputId": "4ffe008d-c3b7-413b-f84d-60268411795a"
   },
   "outputs": [
    {
     "data": {
      "text/plain": [
       "8"
      ]
     },
     "execution_count": 6,
     "metadata": {},
     "output_type": "execute_result"
    }
   ],
   "source": [
    "df.duplicated(subset=['Warehouse_block','Mode_of_Shipment','Customer_care_calls','Customer_rating','Cost_of_the_Product','Prior_purchases','Product_importance','Gender','Discount_offered','Reached.on.Time_Y.N']).sum()"
   ]
  },
  {
   "cell_type": "code",
   "execution_count": 7,
   "id": "42fb16b9",
   "metadata": {
    "colab": {
     "base_uri": "https://localhost:8080/"
    },
    "id": "bd15518a-4ad5-48d6-a3d9-c98416a68b48",
    "outputId": "18cb9e8f-800a-450c-fa41-452b81705f86"
   },
   "outputs": [
    {
     "data": {
      "text/plain": [
       "0"
      ]
     },
     "execution_count": 7,
     "metadata": {},
     "output_type": "execute_result"
    }
   ],
   "source": [
    "df.duplicated(subset=['ID']).sum()"
   ]
  },
  {
   "cell_type": "code",
   "execution_count": 8,
   "id": "7e43c35f",
   "metadata": {
    "colab": {
     "base_uri": "https://localhost:8080/"
    },
    "id": "e5f42e90-ce75-49a6-a60a-6e20a255c43d",
    "outputId": "8c3a5046-2850-4eae-fd9d-0ed1a18b0c2d"
   },
   "outputs": [
    {
     "data": {
      "text/html": [
       "<div>\n",
       "<style scoped>\n",
       "    .dataframe tbody tr th:only-of-type {\n",
       "        vertical-align: middle;\n",
       "    }\n",
       "\n",
       "    .dataframe tbody tr th {\n",
       "        vertical-align: top;\n",
       "    }\n",
       "\n",
       "    .dataframe thead th {\n",
       "        text-align: right;\n",
       "    }\n",
       "</style>\n",
       "<table border=\"1\" class=\"dataframe\">\n",
       "  <thead>\n",
       "    <tr style=\"text-align: right;\">\n",
       "      <th></th>\n",
       "      <th>ID</th>\n",
       "      <th>Warehouse_block</th>\n",
       "      <th>Mode_of_Shipment</th>\n",
       "      <th>Customer_care_calls</th>\n",
       "      <th>Customer_rating</th>\n",
       "      <th>Cost_of_the_Product</th>\n",
       "      <th>Prior_purchases</th>\n",
       "      <th>Product_importance</th>\n",
       "      <th>Gender</th>\n",
       "      <th>Discount_offered</th>\n",
       "      <th>Weight_in_gms</th>\n",
       "      <th>Reached.on.Time_Y.N</th>\n",
       "    </tr>\n",
       "  </thead>\n",
       "  <tbody>\n",
       "    <tr>\n",
       "      <th>3743</th>\n",
       "      <td>3744</td>\n",
       "      <td>F</td>\n",
       "      <td>Ship</td>\n",
       "      <td>4</td>\n",
       "      <td>2</td>\n",
       "      <td>233</td>\n",
       "      <td>2</td>\n",
       "      <td>low</td>\n",
       "      <td>F</td>\n",
       "      <td>5</td>\n",
       "      <td>4817</td>\n",
       "      <td>0</td>\n",
       "    </tr>\n",
       "    <tr>\n",
       "      <th>6215</th>\n",
       "      <td>6216</td>\n",
       "      <td>F</td>\n",
       "      <td>Ship</td>\n",
       "      <td>6</td>\n",
       "      <td>5</td>\n",
       "      <td>255</td>\n",
       "      <td>4</td>\n",
       "      <td>low</td>\n",
       "      <td>F</td>\n",
       "      <td>9</td>\n",
       "      <td>1113</td>\n",
       "      <td>0</td>\n",
       "    </tr>\n",
       "    <tr>\n",
       "      <th>7569</th>\n",
       "      <td>7570</td>\n",
       "      <td>B</td>\n",
       "      <td>Ship</td>\n",
       "      <td>4</td>\n",
       "      <td>1</td>\n",
       "      <td>155</td>\n",
       "      <td>3</td>\n",
       "      <td>low</td>\n",
       "      <td>F</td>\n",
       "      <td>4</td>\n",
       "      <td>4397</td>\n",
       "      <td>0</td>\n",
       "    </tr>\n",
       "    <tr>\n",
       "      <th>7745</th>\n",
       "      <td>7746</td>\n",
       "      <td>F</td>\n",
       "      <td>Ship</td>\n",
       "      <td>6</td>\n",
       "      <td>4</td>\n",
       "      <td>264</td>\n",
       "      <td>4</td>\n",
       "      <td>low</td>\n",
       "      <td>M</td>\n",
       "      <td>1</td>\n",
       "      <td>1711</td>\n",
       "      <td>1</td>\n",
       "    </tr>\n",
       "    <tr>\n",
       "      <th>9592</th>\n",
       "      <td>9593</td>\n",
       "      <td>C</td>\n",
       "      <td>Flight</td>\n",
       "      <td>4</td>\n",
       "      <td>3</td>\n",
       "      <td>249</td>\n",
       "      <td>4</td>\n",
       "      <td>medium</td>\n",
       "      <td>M</td>\n",
       "      <td>10</td>\n",
       "      <td>5614</td>\n",
       "      <td>0</td>\n",
       "    </tr>\n",
       "    <tr>\n",
       "      <th>10601</th>\n",
       "      <td>10602</td>\n",
       "      <td>F</td>\n",
       "      <td>Ship</td>\n",
       "      <td>3</td>\n",
       "      <td>3</td>\n",
       "      <td>158</td>\n",
       "      <td>3</td>\n",
       "      <td>low</td>\n",
       "      <td>F</td>\n",
       "      <td>6</td>\n",
       "      <td>5261</td>\n",
       "      <td>1</td>\n",
       "    </tr>\n",
       "    <tr>\n",
       "      <th>10715</th>\n",
       "      <td>10716</td>\n",
       "      <td>F</td>\n",
       "      <td>Ship</td>\n",
       "      <td>5</td>\n",
       "      <td>2</td>\n",
       "      <td>254</td>\n",
       "      <td>5</td>\n",
       "      <td>medium</td>\n",
       "      <td>F</td>\n",
       "      <td>4</td>\n",
       "      <td>1926</td>\n",
       "      <td>0</td>\n",
       "    </tr>\n",
       "    <tr>\n",
       "      <th>10931</th>\n",
       "      <td>10932</td>\n",
       "      <td>F</td>\n",
       "      <td>Ship</td>\n",
       "      <td>4</td>\n",
       "      <td>3</td>\n",
       "      <td>253</td>\n",
       "      <td>5</td>\n",
       "      <td>low</td>\n",
       "      <td>M</td>\n",
       "      <td>6</td>\n",
       "      <td>1366</td>\n",
       "      <td>1</td>\n",
       "    </tr>\n",
       "  </tbody>\n",
       "</table>\n",
       "</div>"
      ],
      "text/plain": [
       "          ID Warehouse_block Mode_of_Shipment  Customer_care_calls  \\\n",
       "3743    3744               F             Ship                    4   \n",
       "6215    6216               F             Ship                    6   \n",
       "7569    7570               B             Ship                    4   \n",
       "7745    7746               F             Ship                    6   \n",
       "9592    9593               C           Flight                    4   \n",
       "10601  10602               F             Ship                    3   \n",
       "10715  10716               F             Ship                    5   \n",
       "10931  10932               F             Ship                    4   \n",
       "\n",
       "       Customer_rating  Cost_of_the_Product  Prior_purchases  \\\n",
       "3743                 2                  233                2   \n",
       "6215                 5                  255                4   \n",
       "7569                 1                  155                3   \n",
       "7745                 4                  264                4   \n",
       "9592                 3                  249                4   \n",
       "10601                3                  158                3   \n",
       "10715                2                  254                5   \n",
       "10931                3                  253                5   \n",
       "\n",
       "      Product_importance Gender  Discount_offered  Weight_in_gms  \\\n",
       "3743                 low      F                 5           4817   \n",
       "6215                 low      F                 9           1113   \n",
       "7569                 low      F                 4           4397   \n",
       "7745                 low      M                 1           1711   \n",
       "9592              medium      M                10           5614   \n",
       "10601                low      F                 6           5261   \n",
       "10715             medium      F                 4           1926   \n",
       "10931                low      M                 6           1366   \n",
       "\n",
       "       Reached.on.Time_Y.N  \n",
       "3743                     0  \n",
       "6215                     0  \n",
       "7569                     0  \n",
       "7745                     1  \n",
       "9592                     0  \n",
       "10601                    1  \n",
       "10715                    0  \n",
       "10931                    1  "
      ]
     },
     "execution_count": 8,
     "metadata": {},
     "output_type": "execute_result"
    }
   ],
   "source": [
    "df[df.duplicated(subset=['Warehouse_block','Mode_of_Shipment','Customer_care_calls','Customer_rating','Cost_of_the_Product','Prior_purchases','Product_importance','Gender','Discount_offered','Reached.on.Time_Y.N'])]"
   ]
  },
  {
   "cell_type": "markdown",
   "id": "2b213d88",
   "metadata": {
    "id": "a3ff74b2-8b40-4731-abe6-e6efe0ad1c77"
   },
   "source": [
    "#### Dari hasil pengecekan duplikat data tidak ditemukan data yang duplikat pada keseluruhan kolom. Akan tetapi kami trial untuk memasukan hanya beberapa kolom kecuali kolom ID, lalu ditemukan terdapat 8 baris yang memiliki beberapa kesamaan. Namun hal tersebut tidak perlu dilakukan drop duplicated karena kesamaan hanya pada beberapa value saja. Sehingga dalam tahapan ini tidak perlu dilakukan drop duplicated data pada data frame."
   ]
  },
  {
   "cell_type": "markdown",
   "id": "84c63599",
   "metadata": {
    "id": "f9ca1b4c-4e87-4fe9-abe4-075c4223de68"
   },
   "source": [
    "## C. Handle Outliers"
   ]
  },
  {
   "cell_type": "code",
   "execution_count": 9,
   "id": "9ae2f5f4",
   "metadata": {
    "id": "22c88b10-3415-4137-8ae3-726dc4cb7ce0"
   },
   "outputs": [],
   "source": [
    "import seaborn as sns\n",
    "import matplotlib.pyplot as plt\n",
    "pal = sns.color_palette()\n",
    "from scipy import stats\n",
    "from sklearn.preprocessing import MinMaxScaler, StandardScaler"
   ]
  },
  {
   "cell_type": "code",
   "execution_count": 10,
   "id": "d292b5d5",
   "metadata": {
    "id": "f4e90823-7851-4b25-9820-80f3014f04d1"
   },
   "outputs": [],
   "source": [
    "from matplotlib import rcParams\n",
    "rcParams['figure.figsize'] = 12, 7\n",
    "rcParams['lines.linewidth'] = 3\n",
    "rcParams['xtick.labelsize'] = 'x-large'\n",
    "rcParams['ytick.labelsize'] = 'x-large'"
   ]
  },
  {
   "cell_type": "code",
   "execution_count": 11,
   "id": "65d7913a",
   "metadata": {
    "colab": {
     "base_uri": "https://localhost:8080/"
    },
    "id": "ac4cf445-d6e9-4b32-9bb0-842d70436740",
    "outputId": "ac5f2705-a045-47fb-e9f4-21d0f01fff5a"
   },
   "outputs": [
    {
     "data": {
      "text/html": [
       "<div>\n",
       "<style scoped>\n",
       "    .dataframe tbody tr th:only-of-type {\n",
       "        vertical-align: middle;\n",
       "    }\n",
       "\n",
       "    .dataframe tbody tr th {\n",
       "        vertical-align: top;\n",
       "    }\n",
       "\n",
       "    .dataframe thead th {\n",
       "        text-align: right;\n",
       "    }\n",
       "</style>\n",
       "<table border=\"1\" class=\"dataframe\">\n",
       "  <thead>\n",
       "    <tr style=\"text-align: right;\">\n",
       "      <th></th>\n",
       "      <th>ID</th>\n",
       "      <th>Customer_care_calls</th>\n",
       "      <th>Customer_rating</th>\n",
       "      <th>Cost_of_the_Product</th>\n",
       "      <th>Prior_purchases</th>\n",
       "      <th>Discount_offered</th>\n",
       "      <th>Weight_in_gms</th>\n",
       "      <th>Reached.on.Time_Y.N</th>\n",
       "    </tr>\n",
       "  </thead>\n",
       "  <tbody>\n",
       "    <tr>\n",
       "      <th>count</th>\n",
       "      <td>10999.00000</td>\n",
       "      <td>10999.000000</td>\n",
       "      <td>10999.000000</td>\n",
       "      <td>10999.000000</td>\n",
       "      <td>10999.000000</td>\n",
       "      <td>10999.000000</td>\n",
       "      <td>10999.000000</td>\n",
       "      <td>10999.000000</td>\n",
       "    </tr>\n",
       "    <tr>\n",
       "      <th>mean</th>\n",
       "      <td>5500.00000</td>\n",
       "      <td>4.054459</td>\n",
       "      <td>2.990545</td>\n",
       "      <td>210.196836</td>\n",
       "      <td>3.567597</td>\n",
       "      <td>13.373216</td>\n",
       "      <td>3634.016729</td>\n",
       "      <td>0.596691</td>\n",
       "    </tr>\n",
       "    <tr>\n",
       "      <th>std</th>\n",
       "      <td>3175.28214</td>\n",
       "      <td>1.141490</td>\n",
       "      <td>1.413603</td>\n",
       "      <td>48.063272</td>\n",
       "      <td>1.522860</td>\n",
       "      <td>16.205527</td>\n",
       "      <td>1635.377251</td>\n",
       "      <td>0.490584</td>\n",
       "    </tr>\n",
       "    <tr>\n",
       "      <th>min</th>\n",
       "      <td>1.00000</td>\n",
       "      <td>2.000000</td>\n",
       "      <td>1.000000</td>\n",
       "      <td>96.000000</td>\n",
       "      <td>2.000000</td>\n",
       "      <td>1.000000</td>\n",
       "      <td>1001.000000</td>\n",
       "      <td>0.000000</td>\n",
       "    </tr>\n",
       "    <tr>\n",
       "      <th>25%</th>\n",
       "      <td>2750.50000</td>\n",
       "      <td>3.000000</td>\n",
       "      <td>2.000000</td>\n",
       "      <td>169.000000</td>\n",
       "      <td>3.000000</td>\n",
       "      <td>4.000000</td>\n",
       "      <td>1839.500000</td>\n",
       "      <td>0.000000</td>\n",
       "    </tr>\n",
       "    <tr>\n",
       "      <th>50%</th>\n",
       "      <td>5500.00000</td>\n",
       "      <td>4.000000</td>\n",
       "      <td>3.000000</td>\n",
       "      <td>214.000000</td>\n",
       "      <td>3.000000</td>\n",
       "      <td>7.000000</td>\n",
       "      <td>4149.000000</td>\n",
       "      <td>1.000000</td>\n",
       "    </tr>\n",
       "    <tr>\n",
       "      <th>75%</th>\n",
       "      <td>8249.50000</td>\n",
       "      <td>5.000000</td>\n",
       "      <td>4.000000</td>\n",
       "      <td>251.000000</td>\n",
       "      <td>4.000000</td>\n",
       "      <td>10.000000</td>\n",
       "      <td>5050.000000</td>\n",
       "      <td>1.000000</td>\n",
       "    </tr>\n",
       "    <tr>\n",
       "      <th>max</th>\n",
       "      <td>10999.00000</td>\n",
       "      <td>7.000000</td>\n",
       "      <td>5.000000</td>\n",
       "      <td>310.000000</td>\n",
       "      <td>10.000000</td>\n",
       "      <td>65.000000</td>\n",
       "      <td>7846.000000</td>\n",
       "      <td>1.000000</td>\n",
       "    </tr>\n",
       "  </tbody>\n",
       "</table>\n",
       "</div>"
      ],
      "text/plain": [
       "                ID  Customer_care_calls  Customer_rating  Cost_of_the_Product  \\\n",
       "count  10999.00000         10999.000000     10999.000000         10999.000000   \n",
       "mean    5500.00000             4.054459         2.990545           210.196836   \n",
       "std     3175.28214             1.141490         1.413603            48.063272   \n",
       "min        1.00000             2.000000         1.000000            96.000000   \n",
       "25%     2750.50000             3.000000         2.000000           169.000000   \n",
       "50%     5500.00000             4.000000         3.000000           214.000000   \n",
       "75%     8249.50000             5.000000         4.000000           251.000000   \n",
       "max    10999.00000             7.000000         5.000000           310.000000   \n",
       "\n",
       "       Prior_purchases  Discount_offered  Weight_in_gms  Reached.on.Time_Y.N  \n",
       "count     10999.000000      10999.000000   10999.000000         10999.000000  \n",
       "mean          3.567597         13.373216    3634.016729             0.596691  \n",
       "std           1.522860         16.205527    1635.377251             0.490584  \n",
       "min           2.000000          1.000000    1001.000000             0.000000  \n",
       "25%           3.000000          4.000000    1839.500000             0.000000  \n",
       "50%           3.000000          7.000000    4149.000000             1.000000  \n",
       "75%           4.000000         10.000000    5050.000000             1.000000  \n",
       "max          10.000000         65.000000    7846.000000             1.000000  "
      ]
     },
     "execution_count": 11,
     "metadata": {},
     "output_type": "execute_result"
    }
   ],
   "source": [
    "df.describe()"
   ]
  },
  {
   "cell_type": "code",
   "execution_count": 51,
   "id": "8b840c0f",
   "metadata": {
    "id": "50d2b05c-1c18-446e-aaa9-1073d0b4960a"
   },
   "outputs": [],
   "source": [
    "# memisahkan kolom numeric dan categorical\n",
    "nums = ['Customer_care_calls','Customer_rating','Cost_of_the_Product','Prior_purchases','Discount_offered','Weight_in_gms']\n",
    "cats = ['Warehouse_block','Mode_of_Shipment','Product_importance','Gender']"
   ]
  },
  {
   "cell_type": "code",
   "execution_count": 13,
   "id": "b93ca3cc",
   "metadata": {
    "id": "b2a29286-9b19-418d-a2f2-72c4a477bee3"
   },
   "outputs": [],
   "source": [
    "# Prior_purchases\n",
    "Q1 = df['Prior_purchases'].quantile(0.25)\n",
    "Q3 = df['Prior_purchases'].quantile(0.75)\n",
    "IQR = Q3 - Q1\n",
    "low_limit= Q1 - (1.5 * IQR)\n",
    "high_limit = Q3 + (1.5 * IQR)\n",
    "filtered_entries = ((df['Prior_purchases'] >= low_limit) & (df['Prior_purchases'] <= high_limit))\n",
    "df = df[filtered_entries]"
   ]
  },
  {
   "cell_type": "code",
   "execution_count": 14,
   "id": "792966c0",
   "metadata": {
    "id": "e83cb3b8-fcbe-4749-bd65-c04e913c28b7"
   },
   "outputs": [],
   "source": [
    "# Discount_offered\n",
    "z_scores = np.abs(stats.zscore(df['Discount_offered']))\n",
    "filtered_entries = (z_scores < 3)\n",
    "df = df[filtered_entries]"
   ]
  },
  {
   "cell_type": "code",
   "execution_count": 15,
   "id": "d5fd073a",
   "metadata": {
    "colab": {
     "base_uri": "https://localhost:8080/"
    },
    "id": "1729da45-4cd5-4cfc-a3e8-b3460dec0f0a",
    "outputId": "49d682d9-7140-469d-a6de-4190683462f7"
   },
   "outputs": [
    {
     "data": {
      "image/png": "[encoded data removed]",
      "text/plain": [
       "<Figure size 864x504 with 7 Axes>"
      ]
     },
     "metadata": {
      "needs_background": "light"
     },
     "output_type": "display_data"
    }
   ],
   "source": [
    "features = nums\n",
    "for i in range(0, len(features)):\n",
    "  plt.subplot(1, len(features), i+1)\n",
    "  sns.boxplot(y = df[features[i]], color='blue', orient='v')\n",
    "  plt.tight_layout()"
   ]
  },
  {
   "cell_type": "markdown",
   "id": "b6d0d44a",
   "metadata": {
    "id": "e536b87e-34a9-4699-a6e9-fae4c5a27bc0"
   },
   "source": [
    "Setelah dilakukan Handling Outliers, feature Prior_purchases sudah tidak ada outliers, tetapi untuk feature Discount_offered tetap terlihat outliers. Oleh karena itu, feature Discount_offered akan dilakukan log transformation agar distribusi menjadi normal."
   ]
  },
  {
   "cell_type": "code",
   "execution_count": 16,
   "id": "2ce88f60",
   "metadata": {
    "colab": {
     "base_uri": "https://localhost:8080/"
    },
    "id": "c9ba97c5-42e7-4aee-a7b7-cd9597bf239d",
    "outputId": "ef520506-d31a-48d3-cd8b-e83b8c10e9ea"
   },
   "outputs": [
    {
     "data": {
      "image/png": "[encoded data removed]",
      "text/plain": [
       "<Figure size 864x504 with 7 Axes>"
      ]
     },
     "metadata": {
      "needs_background": "light"
     },
     "output_type": "display_data"
    }
   ],
   "source": [
    "features = nums\n",
    "for i in range(0, len(features)):\n",
    "  plt.subplot(2,4, i+1)\n",
    "  sns.kdeplot(x = df[features[i]], color='blue')\n",
    "  plt.xlabel(features[i])\n",
    "  plt.tight_layout()"
   ]
  },
  {
   "cell_type": "code",
   "execution_count": 17,
   "id": "c17c87a0",
   "metadata": {
    "colab": {
     "base_uri": "https://localhost:8080/"
    },
    "id": "_FJIYNpKq-KT",
    "outputId": "5e9f1f4f-ab4c-441d-9e0e-d9d615790a94"
   },
   "outputs": [
    {
     "data": {
      "text/html": [
       "<div>\n",
       "<style scoped>\n",
       "    .dataframe tbody tr th:only-of-type {\n",
       "        vertical-align: middle;\n",
       "    }\n",
       "\n",
       "    .dataframe tbody tr th {\n",
       "        vertical-align: top;\n",
       "    }\n",
       "\n",
       "    .dataframe thead th {\n",
       "        text-align: right;\n",
       "    }\n",
       "</style>\n",
       "<table border=\"1\" class=\"dataframe\">\n",
       "  <thead>\n",
       "    <tr style=\"text-align: right;\">\n",
       "      <th></th>\n",
       "      <th>ID</th>\n",
       "      <th>Warehouse_block</th>\n",
       "      <th>Mode_of_Shipment</th>\n",
       "      <th>Customer_care_calls</th>\n",
       "      <th>Customer_rating</th>\n",
       "      <th>Cost_of_the_Product</th>\n",
       "      <th>Prior_purchases</th>\n",
       "      <th>Product_importance</th>\n",
       "      <th>Gender</th>\n",
       "      <th>Discount_offered</th>\n",
       "      <th>Weight_in_gms</th>\n",
       "      <th>Reached.on.Time_Y.N</th>\n",
       "    </tr>\n",
       "  </thead>\n",
       "  <tbody>\n",
       "    <tr>\n",
       "      <th>0</th>\n",
       "      <td>1</td>\n",
       "      <td>D</td>\n",
       "      <td>Flight</td>\n",
       "      <td>4</td>\n",
       "      <td>2</td>\n",
       "      <td>177</td>\n",
       "      <td>3</td>\n",
       "      <td>low</td>\n",
       "      <td>F</td>\n",
       "      <td>44</td>\n",
       "      <td>1233</td>\n",
       "      <td>1</td>\n",
       "    </tr>\n",
       "    <tr>\n",
       "      <th>1</th>\n",
       "      <td>2</td>\n",
       "      <td>F</td>\n",
       "      <td>Flight</td>\n",
       "      <td>4</td>\n",
       "      <td>5</td>\n",
       "      <td>216</td>\n",
       "      <td>2</td>\n",
       "      <td>low</td>\n",
       "      <td>M</td>\n",
       "      <td>59</td>\n",
       "      <td>3088</td>\n",
       "      <td>1</td>\n",
       "    </tr>\n",
       "    <tr>\n",
       "      <th>2</th>\n",
       "      <td>3</td>\n",
       "      <td>A</td>\n",
       "      <td>Flight</td>\n",
       "      <td>2</td>\n",
       "      <td>2</td>\n",
       "      <td>183</td>\n",
       "      <td>4</td>\n",
       "      <td>low</td>\n",
       "      <td>M</td>\n",
       "      <td>48</td>\n",
       "      <td>3374</td>\n",
       "      <td>1</td>\n",
       "    </tr>\n",
       "    <tr>\n",
       "      <th>3</th>\n",
       "      <td>4</td>\n",
       "      <td>B</td>\n",
       "      <td>Flight</td>\n",
       "      <td>3</td>\n",
       "      <td>3</td>\n",
       "      <td>176</td>\n",
       "      <td>4</td>\n",
       "      <td>medium</td>\n",
       "      <td>M</td>\n",
       "      <td>10</td>\n",
       "      <td>1177</td>\n",
       "      <td>1</td>\n",
       "    </tr>\n",
       "    <tr>\n",
       "      <th>4</th>\n",
       "      <td>5</td>\n",
       "      <td>C</td>\n",
       "      <td>Flight</td>\n",
       "      <td>2</td>\n",
       "      <td>2</td>\n",
       "      <td>184</td>\n",
       "      <td>3</td>\n",
       "      <td>medium</td>\n",
       "      <td>F</td>\n",
       "      <td>46</td>\n",
       "      <td>2484</td>\n",
       "      <td>1</td>\n",
       "    </tr>\n",
       "    <tr>\n",
       "      <th>...</th>\n",
       "      <td>...</td>\n",
       "      <td>...</td>\n",
       "      <td>...</td>\n",
       "      <td>...</td>\n",
       "      <td>...</td>\n",
       "      <td>...</td>\n",
       "      <td>...</td>\n",
       "      <td>...</td>\n",
       "      <td>...</td>\n",
       "      <td>...</td>\n",
       "      <td>...</td>\n",
       "      <td>...</td>\n",
       "    </tr>\n",
       "    <tr>\n",
       "      <th>10992</th>\n",
       "      <td>10993</td>\n",
       "      <td>D</td>\n",
       "      <td>Ship</td>\n",
       "      <td>5</td>\n",
       "      <td>1</td>\n",
       "      <td>236</td>\n",
       "      <td>5</td>\n",
       "      <td>medium</td>\n",
       "      <td>M</td>\n",
       "      <td>3</td>\n",
       "      <td>1906</td>\n",
       "      <td>0</td>\n",
       "    </tr>\n",
       "    <tr>\n",
       "      <th>10994</th>\n",
       "      <td>10995</td>\n",
       "      <td>A</td>\n",
       "      <td>Ship</td>\n",
       "      <td>4</td>\n",
       "      <td>1</td>\n",
       "      <td>252</td>\n",
       "      <td>5</td>\n",
       "      <td>medium</td>\n",
       "      <td>F</td>\n",
       "      <td>1</td>\n",
       "      <td>1538</td>\n",
       "      <td>1</td>\n",
       "    </tr>\n",
       "    <tr>\n",
       "      <th>10995</th>\n",
       "      <td>10996</td>\n",
       "      <td>B</td>\n",
       "      <td>Ship</td>\n",
       "      <td>4</td>\n",
       "      <td>1</td>\n",
       "      <td>232</td>\n",
       "      <td>5</td>\n",
       "      <td>medium</td>\n",
       "      <td>F</td>\n",
       "      <td>6</td>\n",
       "      <td>1247</td>\n",
       "      <td>0</td>\n",
       "    </tr>\n",
       "    <tr>\n",
       "      <th>10996</th>\n",
       "      <td>10997</td>\n",
       "      <td>C</td>\n",
       "      <td>Ship</td>\n",
       "      <td>5</td>\n",
       "      <td>4</td>\n",
       "      <td>242</td>\n",
       "      <td>5</td>\n",
       "      <td>low</td>\n",
       "      <td>F</td>\n",
       "      <td>4</td>\n",
       "      <td>1155</td>\n",
       "      <td>0</td>\n",
       "    </tr>\n",
       "    <tr>\n",
       "      <th>10998</th>\n",
       "      <td>10999</td>\n",
       "      <td>D</td>\n",
       "      <td>Ship</td>\n",
       "      <td>2</td>\n",
       "      <td>5</td>\n",
       "      <td>155</td>\n",
       "      <td>5</td>\n",
       "      <td>low</td>\n",
       "      <td>F</td>\n",
       "      <td>6</td>\n",
       "      <td>1639</td>\n",
       "      <td>0</td>\n",
       "    </tr>\n",
       "  </tbody>\n",
       "</table>\n",
       "<p>9878 rows × 12 columns</p>\n",
       "</div>"
      ],
      "text/plain": [
       "          ID Warehouse_block Mode_of_Shipment  Customer_care_calls  \\\n",
       "0          1               D           Flight                    4   \n",
       "1          2               F           Flight                    4   \n",
       "2          3               A           Flight                    2   \n",
       "3          4               B           Flight                    3   \n",
       "4          5               C           Flight                    2   \n",
       "...      ...             ...              ...                  ...   \n",
       "10992  10993               D             Ship                    5   \n",
       "10994  10995               A             Ship                    4   \n",
       "10995  10996               B             Ship                    4   \n",
       "10996  10997               C             Ship                    5   \n",
       "10998  10999               D             Ship                    2   \n",
       "\n",
       "       Customer_rating  Cost_of_the_Product  Prior_purchases  \\\n",
       "0                    2                  177                3   \n",
       "1                    5                  216                2   \n",
       "2                    2                  183                4   \n",
       "3                    3                  176                4   \n",
       "4                    2                  184                3   \n",
       "...                ...                  ...              ...   \n",
       "10992                1                  236                5   \n",
       "10994                1                  252                5   \n",
       "10995                1                  232                5   \n",
       "10996                4                  242                5   \n",
       "10998                5                  155                5   \n",
       "\n",
       "      Product_importance Gender  Discount_offered  Weight_in_gms  \\\n",
       "0                    low      F                44           1233   \n",
       "1                    low      M                59           3088   \n",
       "2                    low      M                48           3374   \n",
       "3                 medium      M                10           1177   \n",
       "4                 medium      F                46           2484   \n",
       "...                  ...    ...               ...            ...   \n",
       "10992             medium      M                 3           1906   \n",
       "10994             medium      F                 1           1538   \n",
       "10995             medium      F                 6           1247   \n",
       "10996                low      F                 4           1155   \n",
       "10998                low      F                 6           1639   \n",
       "\n",
       "       Reached.on.Time_Y.N  \n",
       "0                        1  \n",
       "1                        1  \n",
       "2                        1  \n",
       "3                        1  \n",
       "4                        1  \n",
       "...                    ...  \n",
       "10992                    0  \n",
       "10994                    1  \n",
       "10995                    0  \n",
       "10996                    0  \n",
       "10998                    0  \n",
       "\n",
       "[9878 rows x 12 columns]"
      ]
     },
     "execution_count": 17,
     "metadata": {},
     "output_type": "execute_result"
    }
   ],
   "source": [
    "df"
   ]
  },
  {
   "cell_type": "markdown",
   "id": "6b01f05b",
   "metadata": {
    "id": "9cdbbe8f-3b10-461b-b2e3-857a050f15ab"
   },
   "source": [
    "## D. Feature Transformation"
   ]
  },
  {
   "cell_type": "markdown",
   "id": "7a1c9a0e",
   "metadata": {},
   "source": [
    "#### Sebelum dilakukan Standardization"
   ]
  },
  {
   "cell_type": "code",
   "execution_count": 18,
   "id": "ad70c51d",
   "metadata": {
    "colab": {
     "base_uri": "https://localhost:8080/"
    },
    "id": "e074a30c-e73c-48c5-825e-ba5af0bbbc6b",
    "outputId": "1ae0ba69-f95f-4502-c007-88e57bc57d81"
   },
   "outputs": [
    {
     "data": {
      "image/png": "[encoded data removed]",
      "text/plain": [
       "<Figure size 1368x648 with 7 Axes>"
      ]
     },
     "metadata": {
      "needs_background": "light"
     },
     "output_type": "display_data"
    }
   ],
   "source": [
    "plt.figure(figsize = (19, 9))\n",
    "for i, num in enumerate(nums):\n",
    "\n",
    "    plt.subplot(2,4, i+1)\n",
    "    sns.histplot(df[num], color=pal[i])\n",
    "    \n",
    "plt.show()"
   ]
  },
  {
   "cell_type": "code",
   "execution_count": 19,
   "id": "ac189c33",
   "metadata": {
    "colab": {
     "base_uri": "https://localhost:8080/"
    },
    "id": "7563d4e6-711f-479d-87ba-12d0ac2d895a",
    "outputId": "0b80edee-a49d-4f64-9662-6e989ed7fc29",
    "scrolled": true
   },
   "outputs": [
    {
     "data": {
      "image/png": "[encoded data removed]",
      "text/plain": [
       "<Figure size 864x504 with 7 Axes>"
      ]
     },
     "metadata": {
      "needs_background": "light"
     },
     "output_type": "display_data"
    }
   ],
   "source": [
    "features = nums\n",
    "for i in range(0, len(features)):\n",
    "  plt.subplot(2,4, i+1)\n",
    "  sns.kdeplot(x = df[features[i]], color='blue')\n",
    "  plt.xlabel(features[i])\n",
    "  plt.tight_layout()"
   ]
  },
  {
   "cell_type": "markdown",
   "id": "ccdece6f",
   "metadata": {},
   "source": [
    "#### Setelah dilakukan standardization"
   ]
  },
  {
   "cell_type": "code",
   "execution_count": 56,
   "id": "c4558c89",
   "metadata": {},
   "outputs": [],
   "source": [
    "for col in nums:\n",
    "    df[col]= StandardScaler().fit_transform(df[col].values.reshape(len(df), 1))"
   ]
  },
  {
   "cell_type": "code",
   "execution_count": 57,
   "id": "b1517824",
   "metadata": {},
   "outputs": [
    {
     "data": {
      "image/png": "[encoded data removed]",
      "text/plain": [
       "<Figure size 864x504 with 6 Axes>"
      ]
     },
     "metadata": {
      "needs_background": "light"
     },
     "output_type": "display_data"
    }
   ],
   "source": [
    "features = nums\n",
    "for i in range(0, len(features)):\n",
    "  plt.subplot(2,4, i+1)\n",
    "  sns.kdeplot(x = df[features[i]], color='blue')\n",
    "  plt.xlabel(features[i])\n",
    "  plt.tight_layout()"
   ]
  },
  {
   "cell_type": "code",
   "execution_count": 25,
   "id": "6909fdf9",
   "metadata": {
    "colab": {
     "base_uri": "https://localhost:8080/"
    },
    "id": "22eb8348-464a-43b0-bdf9-06b3aa2b9a41",
    "outputId": "d331d645-b021-422f-c690-9e141976da88",
    "scrolled": true
   },
   "outputs": [
    {
     "data": {
      "image/png": "[encoded data removed]",
      "text/plain": [
       "<Figure size 864x504 with 7 Axes>"
      ]
     },
     "metadata": {
      "needs_background": "light"
     },
     "output_type": "display_data"
    }
   ],
   "source": [
    "features = nums\n",
    "for i in range(0, len(features)):\n",
    "  plt.subplot(2,4, i+1)\n",
    "  sns.kdeplot(x = df[features[i]], color='blue')\n",
    "  plt.xlabel(features[i])\n",
    "  plt.tight_layout()"
   ]
  },
  {
   "cell_type": "code",
   "execution_count": 58,
   "id": "35d22a51",
   "metadata": {},
   "outputs": [
    {
     "data": {
      "text/html": [
       "<div>\n",
       "<style scoped>\n",
       "    .dataframe tbody tr th:only-of-type {\n",
       "        vertical-align: middle;\n",
       "    }\n",
       "\n",
       "    .dataframe tbody tr th {\n",
       "        vertical-align: top;\n",
       "    }\n",
       "\n",
       "    .dataframe thead th {\n",
       "        text-align: right;\n",
       "    }\n",
       "</style>\n",
       "<table border=\"1\" class=\"dataframe\">\n",
       "  <thead>\n",
       "    <tr style=\"text-align: right;\">\n",
       "      <th></th>\n",
       "      <th>ID</th>\n",
       "      <th>Customer_care_calls</th>\n",
       "      <th>Customer_rating</th>\n",
       "      <th>Cost_of_the_Product</th>\n",
       "      <th>Prior_purchases</th>\n",
       "      <th>Product_importance</th>\n",
       "      <th>Gender</th>\n",
       "      <th>Discount_offered</th>\n",
       "      <th>Weight_in_gms</th>\n",
       "      <th>is_late</th>\n",
       "      <th>Cost_of_the_Product_norm</th>\n",
       "      <th>Cost_of_the_Product_std</th>\n",
       "      <th>Warehouse_block_A</th>\n",
       "      <th>Warehouse_block_B</th>\n",
       "      <th>Warehouse_block_C</th>\n",
       "      <th>Warehouse_block_D</th>\n",
       "      <th>Warehouse_block_F</th>\n",
       "      <th>Mode_of_Shipment_Flight</th>\n",
       "      <th>Mode_of_Shipment_Road</th>\n",
       "      <th>Mode_of_Shipment_Ship</th>\n",
       "    </tr>\n",
       "  </thead>\n",
       "  <tbody>\n",
       "    <tr>\n",
       "      <th>count</th>\n",
       "      <td>9878.000000</td>\n",
       "      <td>9.878000e+03</td>\n",
       "      <td>9.878000e+03</td>\n",
       "      <td>9.878000e+03</td>\n",
       "      <td>9.878000e+03</td>\n",
       "      <td>9878.000000</td>\n",
       "      <td>9878.000000</td>\n",
       "      <td>9.878000e+03</td>\n",
       "      <td>9.878000e+03</td>\n",
       "      <td>9878.00000</td>\n",
       "      <td>9878.000000</td>\n",
       "      <td>9.878000e+03</td>\n",
       "      <td>9878.000000</td>\n",
       "      <td>9878.000000</td>\n",
       "      <td>9878.000000</td>\n",
       "      <td>9878.000000</td>\n",
       "      <td>9878.000000</td>\n",
       "      <td>9878.000000</td>\n",
       "      <td>9878.000000</td>\n",
       "      <td>9878.000000</td>\n",
       "    </tr>\n",
       "    <tr>\n",
       "      <th>mean</th>\n",
       "      <td>5513.472363</td>\n",
       "      <td>1.080169e-15</td>\n",
       "      <td>1.565192e-16</td>\n",
       "      <td>-1.360186e-16</td>\n",
       "      <td>2.206914e-15</td>\n",
       "      <td>1.344908</td>\n",
       "      <td>0.496862</td>\n",
       "      <td>-1.998222e-15</td>\n",
       "      <td>-8.000170e-17</td>\n",
       "      <td>0.59263</td>\n",
       "      <td>0.534287</td>\n",
       "      <td>-1.360186e-16</td>\n",
       "      <td>0.167645</td>\n",
       "      <td>0.166329</td>\n",
       "      <td>0.166937</td>\n",
       "      <td>0.166329</td>\n",
       "      <td>0.332760</td>\n",
       "      <td>0.163393</td>\n",
       "      <td>0.159040</td>\n",
       "      <td>0.677566</td>\n",
       "    </tr>\n",
       "    <tr>\n",
       "      <th>std</th>\n",
       "      <td>3165.022288</td>\n",
       "      <td>1.000051e+00</td>\n",
       "      <td>1.000051e+00</td>\n",
       "      <td>1.000051e+00</td>\n",
       "      <td>1.000051e+00</td>\n",
       "      <td>0.623840</td>\n",
       "      <td>0.500015</td>\n",
       "      <td>1.000051e+00</td>\n",
       "      <td>1.000051e+00</td>\n",
       "      <td>0.49137</td>\n",
       "      <td>0.225050</td>\n",
       "      <td>1.000051e+00</td>\n",
       "      <td>0.373570</td>\n",
       "      <td>0.372395</td>\n",
       "      <td>0.372938</td>\n",
       "      <td>0.372395</td>\n",
       "      <td>0.471225</td>\n",
       "      <td>0.369743</td>\n",
       "      <td>0.365732</td>\n",
       "      <td>0.467432</td>\n",
       "    </tr>\n",
       "    <tr>\n",
       "      <th>min</th>\n",
       "      <td>1.000000</td>\n",
       "      <td>-1.782741e+00</td>\n",
       "      <td>-1.405493e+00</td>\n",
       "      <td>-2.374202e+00</td>\n",
       "      <td>-1.249366e+00</td>\n",
       "      <td>0.000000</td>\n",
       "      <td>0.000000</td>\n",
       "      <td>-1.855242e+00</td>\n",
       "      <td>-1.620090e+00</td>\n",
       "      <td>0.00000</td>\n",
       "      <td>0.000000</td>\n",
       "      <td>-2.374202e+00</td>\n",
       "      <td>0.000000</td>\n",
       "      <td>0.000000</td>\n",
       "      <td>0.000000</td>\n",
       "      <td>0.000000</td>\n",
       "      <td>0.000000</td>\n",
       "      <td>0.000000</td>\n",
       "      <td>0.000000</td>\n",
       "      <td>0.000000</td>\n",
       "    </tr>\n",
       "    <tr>\n",
       "      <th>25%</th>\n",
       "      <td>2809.250000</td>\n",
       "      <td>-9.154285e-01</td>\n",
       "      <td>-6.989196e-01</td>\n",
       "      <td>-8.583649e-01</td>\n",
       "      <td>-1.249366e+00</td>\n",
       "      <td>1.000000</td>\n",
       "      <td>0.000000</td>\n",
       "      <td>-5.544877e-01</td>\n",
       "      <td>-1.104864e+00</td>\n",
       "      <td>0.00000</td>\n",
       "      <td>0.341121</td>\n",
       "      <td>-8.583649e-01</td>\n",
       "      <td>0.000000</td>\n",
       "      <td>0.000000</td>\n",
       "      <td>0.000000</td>\n",
       "      <td>0.000000</td>\n",
       "      <td>0.000000</td>\n",
       "      <td>0.000000</td>\n",
       "      <td>0.000000</td>\n",
       "      <td>0.000000</td>\n",
       "    </tr>\n",
       "    <tr>\n",
       "      <th>50%</th>\n",
       "      <td>5515.500000</td>\n",
       "      <td>-4.811575e-02</td>\n",
       "      <td>7.653710e-03</td>\n",
       "      <td>7.605526e-02</td>\n",
       "      <td>-2.220424e-01</td>\n",
       "      <td>1.000000</td>\n",
       "      <td>0.000000</td>\n",
       "      <td>-2.940236e-02</td>\n",
       "      <td>3.179670e-01</td>\n",
       "      <td>1.00000</td>\n",
       "      <td>0.551402</td>\n",
       "      <td>7.605526e-02</td>\n",
       "      <td>0.000000</td>\n",
       "      <td>0.000000</td>\n",
       "      <td>0.000000</td>\n",
       "      <td>0.000000</td>\n",
       "      <td>0.000000</td>\n",
       "      <td>0.000000</td>\n",
       "      <td>0.000000</td>\n",
       "      <td>1.000000</td>\n",
       "    </tr>\n",
       "    <tr>\n",
       "      <th>75%</th>\n",
       "      <td>8260.750000</td>\n",
       "      <td>8.191970e-01</td>\n",
       "      <td>7.142271e-01</td>\n",
       "      <td>8.443563e-01</td>\n",
       "      <td>8.052807e-01</td>\n",
       "      <td>2.000000</td>\n",
       "      <td>1.000000</td>\n",
       "      <td>3.052644e-01</td>\n",
       "      <td>8.631411e-01</td>\n",
       "      <td>1.00000</td>\n",
       "      <td>0.724299</td>\n",
       "      <td>8.443563e-01</td>\n",
       "      <td>0.000000</td>\n",
       "      <td>0.000000</td>\n",
       "      <td>0.000000</td>\n",
       "      <td>0.000000</td>\n",
       "      <td>1.000000</td>\n",
       "      <td>0.000000</td>\n",
       "      <td>0.000000</td>\n",
       "      <td>1.000000</td>\n",
       "    </tr>\n",
       "    <tr>\n",
       "      <th>max</th>\n",
       "      <td>10999.000000</td>\n",
       "      <td>2.553822e+00</td>\n",
       "      <td>1.420800e+00</td>\n",
       "      <td>2.069485e+00</td>\n",
       "      <td>1.832604e+00</td>\n",
       "      <td>2.000000</td>\n",
       "      <td>1.000000</td>\n",
       "      <td>2.017232e+00</td>\n",
       "      <td>2.563448e+00</td>\n",
       "      <td>1.00000</td>\n",
       "      <td>1.000000</td>\n",
       "      <td>2.069485e+00</td>\n",
       "      <td>1.000000</td>\n",
       "      <td>1.000000</td>\n",
       "      <td>1.000000</td>\n",
       "      <td>1.000000</td>\n",
       "      <td>1.000000</td>\n",
       "      <td>1.000000</td>\n",
       "      <td>1.000000</td>\n",
       "      <td>1.000000</td>\n",
       "    </tr>\n",
       "  </tbody>\n",
       "</table>\n",
       "</div>"
      ],
      "text/plain": [
       "                 ID  Customer_care_calls  Customer_rating  \\\n",
       "count   9878.000000         9.878000e+03     9.878000e+03   \n",
       "mean    5513.472363         1.080169e-15     1.565192e-16   \n",
       "std     3165.022288         1.000051e+00     1.000051e+00   \n",
       "min        1.000000        -1.782741e+00    -1.405493e+00   \n",
       "25%     2809.250000        -9.154285e-01    -6.989196e-01   \n",
       "50%     5515.500000        -4.811575e-02     7.653710e-03   \n",
       "75%     8260.750000         8.191970e-01     7.142271e-01   \n",
       "max    10999.000000         2.553822e+00     1.420800e+00   \n",
       "\n",
       "       Cost_of_the_Product  Prior_purchases  Product_importance       Gender  \\\n",
       "count         9.878000e+03     9.878000e+03         9878.000000  9878.000000   \n",
       "mean         -1.360186e-16     2.206914e-15            1.344908     0.496862   \n",
       "std           1.000051e+00     1.000051e+00            0.623840     0.500015   \n",
       "min          -2.374202e+00    -1.249366e+00            0.000000     0.000000   \n",
       "25%          -8.583649e-01    -1.249366e+00            1.000000     0.000000   \n",
       "50%           7.605526e-02    -2.220424e-01            1.000000     0.000000   \n",
       "75%           8.443563e-01     8.052807e-01            2.000000     1.000000   \n",
       "max           2.069485e+00     1.832604e+00            2.000000     1.000000   \n",
       "\n",
       "       Discount_offered  Weight_in_gms     is_late  Cost_of_the_Product_norm  \\\n",
       "count      9.878000e+03   9.878000e+03  9878.00000               9878.000000   \n",
       "mean      -1.998222e-15  -8.000170e-17     0.59263                  0.534287   \n",
       "std        1.000051e+00   1.000051e+00     0.49137                  0.225050   \n",
       "min       -1.855242e+00  -1.620090e+00     0.00000                  0.000000   \n",
       "25%       -5.544877e-01  -1.104864e+00     0.00000                  0.341121   \n",
       "50%       -2.940236e-02   3.179670e-01     1.00000                  0.551402   \n",
       "75%        3.052644e-01   8.631411e-01     1.00000                  0.724299   \n",
       "max        2.017232e+00   2.563448e+00     1.00000                  1.000000   \n",
       "\n",
       "       Cost_of_the_Product_std  Warehouse_block_A  Warehouse_block_B  \\\n",
       "count             9.878000e+03        9878.000000        9878.000000   \n",
       "mean             -1.360186e-16           0.167645           0.166329   \n",
       "std               1.000051e+00           0.373570           0.372395   \n",
       "min              -2.374202e+00           0.000000           0.000000   \n",
       "25%              -8.583649e-01           0.000000           0.000000   \n",
       "50%               7.605526e-02           0.000000           0.000000   \n",
       "75%               8.443563e-01           0.000000           0.000000   \n",
       "max               2.069485e+00           1.000000           1.000000   \n",
       "\n",
       "       Warehouse_block_C  Warehouse_block_D  Warehouse_block_F  \\\n",
       "count        9878.000000        9878.000000        9878.000000   \n",
       "mean            0.166937           0.166329           0.332760   \n",
       "std             0.372938           0.372395           0.471225   \n",
       "min             0.000000           0.000000           0.000000   \n",
       "25%             0.000000           0.000000           0.000000   \n",
       "50%             0.000000           0.000000           0.000000   \n",
       "75%             0.000000           0.000000           1.000000   \n",
       "max             1.000000           1.000000           1.000000   \n",
       "\n",
       "       Mode_of_Shipment_Flight  Mode_of_Shipment_Road  Mode_of_Shipment_Ship  \n",
       "count              9878.000000            9878.000000            9878.000000  \n",
       "mean                  0.163393               0.159040               0.677566  \n",
       "std                   0.369743               0.365732               0.467432  \n",
       "min                   0.000000               0.000000               0.000000  \n",
       "25%                   0.000000               0.000000               0.000000  \n",
       "50%                   0.000000               0.000000               1.000000  \n",
       "75%                   0.000000               0.000000               1.000000  \n",
       "max                   1.000000               1.000000               1.000000  "
      ]
     },
     "execution_count": 58,
     "metadata": {},
     "output_type": "execute_result"
    }
   ],
   "source": [
    "df.describe()"
   ]
  },
  {
   "cell_type": "markdown",
   "id": "e5de6c1c",
   "metadata": {
    "id": "9e19517c-a107-4a26-9a8f-7a5b465754e5"
   },
   "source": [
    "## E. Feature Encoding"
   ]
  },
  {
   "cell_type": "code",
   "execution_count": 26,
   "id": "cfaac33f",
   "metadata": {
    "colab": {
     "base_uri": "https://localhost:8080/"
    },
    "id": "dad131e0-0fea-43f3-ac28-6f29f22ec2ba",
    "outputId": "a1151146-fe72-45c5-9623-c65fb8f90a8b"
   },
   "outputs": [
    {
     "name": "stdout",
     "output_type": "stream",
     "text": [
      "Warehouse_block\n",
      "['D' 'F' 'A' 'B' 'C']\n",
      "\n",
      "\n",
      "Mode_of_Shipment\n",
      "['Flight' 'Ship' 'Road']\n",
      "\n",
      "\n",
      "Product_importance\n",
      "['low' 'medium' 'high']\n",
      "\n",
      "\n",
      "Gender\n",
      "['F' 'M']\n"
     ]
    }
   ],
   "source": [
    "print('Warehouse_block')\n",
    "print(df['Warehouse_block'].unique())\n",
    "print('\\n')\n",
    "print('Mode_of_Shipment')\n",
    "print(df['Mode_of_Shipment'].unique())\n",
    "print('\\n')\n",
    "print('Product_importance')\n",
    "print(df['Product_importance'].unique())\n",
    "print('\\n')\n",
    "print('Gender')\n",
    "print(df['Gender'].unique())"
   ]
  },
  {
   "cell_type": "code",
   "execution_count": 59,
   "id": "0f389e1f",
   "metadata": {
    "colab": {
     "base_uri": "https://localhost:8080/"
    },
    "id": "26cf6cdf-1386-4a72-8cf5-a85ff50ce26c",
    "outputId": "4465f0eb-14d6-4078-8e85-0db57e1e942a"
   },
   "outputs": [
    {
     "data": {
      "text/html": [
       "<div>\n",
       "<style scoped>\n",
       "    .dataframe tbody tr th:only-of-type {\n",
       "        vertical-align: middle;\n",
       "    }\n",
       "\n",
       "    .dataframe tbody tr th {\n",
       "        vertical-align: top;\n",
       "    }\n",
       "\n",
       "    .dataframe thead th {\n",
       "        text-align: right;\n",
       "    }\n",
       "</style>\n",
       "<table border=\"1\" class=\"dataframe\">\n",
       "  <thead>\n",
       "    <tr style=\"text-align: right;\">\n",
       "      <th></th>\n",
       "      <th>Customer_care_calls</th>\n",
       "      <th>Customer_rating</th>\n",
       "      <th>Cost_of_the_Product</th>\n",
       "      <th>Prior_purchases</th>\n",
       "      <th>Discount_offered</th>\n",
       "      <th>Weight_in_gms</th>\n",
       "    </tr>\n",
       "  </thead>\n",
       "  <tbody>\n",
       "    <tr>\n",
       "      <th>count</th>\n",
       "      <td>9.878000e+03</td>\n",
       "      <td>9.878000e+03</td>\n",
       "      <td>9.878000e+03</td>\n",
       "      <td>9.878000e+03</td>\n",
       "      <td>9.878000e+03</td>\n",
       "      <td>9.878000e+03</td>\n",
       "    </tr>\n",
       "    <tr>\n",
       "      <th>mean</th>\n",
       "      <td>1.080169e-15</td>\n",
       "      <td>1.565192e-16</td>\n",
       "      <td>-1.360186e-16</td>\n",
       "      <td>2.206914e-15</td>\n",
       "      <td>-1.998222e-15</td>\n",
       "      <td>-8.000170e-17</td>\n",
       "    </tr>\n",
       "    <tr>\n",
       "      <th>std</th>\n",
       "      <td>1.000051e+00</td>\n",
       "      <td>1.000051e+00</td>\n",
       "      <td>1.000051e+00</td>\n",
       "      <td>1.000051e+00</td>\n",
       "      <td>1.000051e+00</td>\n",
       "      <td>1.000051e+00</td>\n",
       "    </tr>\n",
       "    <tr>\n",
       "      <th>min</th>\n",
       "      <td>-1.782741e+00</td>\n",
       "      <td>-1.405493e+00</td>\n",
       "      <td>-2.374202e+00</td>\n",
       "      <td>-1.249366e+00</td>\n",
       "      <td>-1.855242e+00</td>\n",
       "      <td>-1.620090e+00</td>\n",
       "    </tr>\n",
       "    <tr>\n",
       "      <th>25%</th>\n",
       "      <td>-9.154285e-01</td>\n",
       "      <td>-6.989196e-01</td>\n",
       "      <td>-8.583649e-01</td>\n",
       "      <td>-1.249366e+00</td>\n",
       "      <td>-5.544877e-01</td>\n",
       "      <td>-1.104864e+00</td>\n",
       "    </tr>\n",
       "    <tr>\n",
       "      <th>50%</th>\n",
       "      <td>-4.811575e-02</td>\n",
       "      <td>7.653710e-03</td>\n",
       "      <td>7.605526e-02</td>\n",
       "      <td>-2.220424e-01</td>\n",
       "      <td>-2.940236e-02</td>\n",
       "      <td>3.179670e-01</td>\n",
       "    </tr>\n",
       "    <tr>\n",
       "      <th>75%</th>\n",
       "      <td>8.191970e-01</td>\n",
       "      <td>7.142271e-01</td>\n",
       "      <td>8.443563e-01</td>\n",
       "      <td>8.052807e-01</td>\n",
       "      <td>3.052644e-01</td>\n",
       "      <td>8.631411e-01</td>\n",
       "    </tr>\n",
       "    <tr>\n",
       "      <th>max</th>\n",
       "      <td>2.553822e+00</td>\n",
       "      <td>1.420800e+00</td>\n",
       "      <td>2.069485e+00</td>\n",
       "      <td>1.832604e+00</td>\n",
       "      <td>2.017232e+00</td>\n",
       "      <td>2.563448e+00</td>\n",
       "    </tr>\n",
       "  </tbody>\n",
       "</table>\n",
       "</div>"
      ],
      "text/plain": [
       "       Customer_care_calls  Customer_rating  Cost_of_the_Product  \\\n",
       "count         9.878000e+03     9.878000e+03         9.878000e+03   \n",
       "mean          1.080169e-15     1.565192e-16        -1.360186e-16   \n",
       "std           1.000051e+00     1.000051e+00         1.000051e+00   \n",
       "min          -1.782741e+00    -1.405493e+00        -2.374202e+00   \n",
       "25%          -9.154285e-01    -6.989196e-01        -8.583649e-01   \n",
       "50%          -4.811575e-02     7.653710e-03         7.605526e-02   \n",
       "75%           8.191970e-01     7.142271e-01         8.443563e-01   \n",
       "max           2.553822e+00     1.420800e+00         2.069485e+00   \n",
       "\n",
       "       Prior_purchases  Discount_offered  Weight_in_gms  \n",
       "count     9.878000e+03      9.878000e+03   9.878000e+03  \n",
       "mean      2.206914e-15     -1.998222e-15  -8.000170e-17  \n",
       "std       1.000051e+00      1.000051e+00   1.000051e+00  \n",
       "min      -1.249366e+00     -1.855242e+00  -1.620090e+00  \n",
       "25%      -1.249366e+00     -5.544877e-01  -1.104864e+00  \n",
       "50%      -2.220424e-01     -2.940236e-02   3.179670e-01  \n",
       "75%       8.052807e-01      3.052644e-01   8.631411e-01  \n",
       "max       1.832604e+00      2.017232e+00   2.563448e+00  "
      ]
     },
     "execution_count": 59,
     "metadata": {},
     "output_type": "execute_result"
    }
   ],
   "source": [
    "df[nums].describe()"
   ]
  },
  {
   "cell_type": "code",
   "execution_count": 60,
   "id": "ed5f23c4",
   "metadata": {
    "colab": {
     "base_uri": "https://localhost:8080/"
    },
    "id": "88798db6-3fd0-4d3d-b7e4-0b7587d370e4",
    "outputId": "06ef4ffd-00cd-491c-c510-c0466787952b"
   },
   "outputs": [
    {
     "data": {
      "text/html": [
       "<div>\n",
       "<style scoped>\n",
       "    .dataframe tbody tr th:only-of-type {\n",
       "        vertical-align: middle;\n",
       "    }\n",
       "\n",
       "    .dataframe tbody tr th {\n",
       "        vertical-align: top;\n",
       "    }\n",
       "\n",
       "    .dataframe thead th {\n",
       "        text-align: right;\n",
       "    }\n",
       "</style>\n",
       "<table border=\"1\" class=\"dataframe\">\n",
       "  <thead>\n",
       "    <tr style=\"text-align: right;\">\n",
       "      <th></th>\n",
       "      <th>Product_importance</th>\n",
       "      <th>Gender</th>\n",
       "    </tr>\n",
       "  </thead>\n",
       "  <tbody>\n",
       "    <tr>\n",
       "      <th>count</th>\n",
       "      <td>9878.000000</td>\n",
       "      <td>9878.000000</td>\n",
       "    </tr>\n",
       "    <tr>\n",
       "      <th>mean</th>\n",
       "      <td>1.344908</td>\n",
       "      <td>0.496862</td>\n",
       "    </tr>\n",
       "    <tr>\n",
       "      <th>std</th>\n",
       "      <td>0.623840</td>\n",
       "      <td>0.500015</td>\n",
       "    </tr>\n",
       "    <tr>\n",
       "      <th>min</th>\n",
       "      <td>0.000000</td>\n",
       "      <td>0.000000</td>\n",
       "    </tr>\n",
       "    <tr>\n",
       "      <th>25%</th>\n",
       "      <td>1.000000</td>\n",
       "      <td>0.000000</td>\n",
       "    </tr>\n",
       "    <tr>\n",
       "      <th>50%</th>\n",
       "      <td>1.000000</td>\n",
       "      <td>0.000000</td>\n",
       "    </tr>\n",
       "    <tr>\n",
       "      <th>75%</th>\n",
       "      <td>2.000000</td>\n",
       "      <td>1.000000</td>\n",
       "    </tr>\n",
       "    <tr>\n",
       "      <th>max</th>\n",
       "      <td>2.000000</td>\n",
       "      <td>1.000000</td>\n",
       "    </tr>\n",
       "  </tbody>\n",
       "</table>\n",
       "</div>"
      ],
      "text/plain": [
       "       Product_importance       Gender\n",
       "count         9878.000000  9878.000000\n",
       "mean             1.344908     0.496862\n",
       "std              0.623840     0.500015\n",
       "min              0.000000     0.000000\n",
       "25%              1.000000     0.000000\n",
       "50%              1.000000     0.000000\n",
       "75%              2.000000     1.000000\n",
       "max              2.000000     1.000000"
      ]
     },
     "execution_count": 60,
     "metadata": {},
     "output_type": "execute_result"
    }
   ],
   "source": [
    "df[cats].describe()"
   ]
  },
  {
   "cell_type": "code",
   "execution_count": 29,
   "id": "165b5b0b",
   "metadata": {
    "id": "83486ee1-e6cc-40f4-923d-11e857ee6951"
   },
   "outputs": [],
   "source": [
    "# Label Encoding pada kolom Product_importance dan Gender\n",
    "df['Product_importance'] = df['Product_importance'].astype('category').cat.codes\n",
    "df['Gender'] = df['Gender'].astype('category').cat.codes"
   ]
  },
  {
   "cell_type": "code",
   "execution_count": 30,
   "id": "744c4782",
   "metadata": {
    "id": "6e27fbf6-5cba-41a8-aa74-fb40a3f6e837"
   },
   "outputs": [],
   "source": [
    "# One Hot Encoding pada kolom Warehouse_block dan Mode_of_Shipment\n",
    "# WARNING: run code ini sekali saja\n",
    "for cat in ['Warehouse_block','Mode_of_Shipment']:\n",
    "    onehots = pd.get_dummies(df[cat], prefix=cat)\n",
    "    df = df.join(onehots)"
   ]
  },
  {
   "cell_type": "code",
   "execution_count": 61,
   "id": "e13ae575",
   "metadata": {
    "colab": {
     "base_uri": "https://localhost:8080/"
    },
    "id": "e135fc40-8114-47b1-b32b-81098316800c",
    "outputId": "acc0b6c6-8455-4a39-bc97-ec34269e17ba"
   },
   "outputs": [
    {
     "data": {
      "text/html": [
       "<div>\n",
       "<style scoped>\n",
       "    .dataframe tbody tr th:only-of-type {\n",
       "        vertical-align: middle;\n",
       "    }\n",
       "\n",
       "    .dataframe tbody tr th {\n",
       "        vertical-align: top;\n",
       "    }\n",
       "\n",
       "    .dataframe thead th {\n",
       "        text-align: right;\n",
       "    }\n",
       "</style>\n",
       "<table border=\"1\" class=\"dataframe\">\n",
       "  <thead>\n",
       "    <tr style=\"text-align: right;\">\n",
       "      <th></th>\n",
       "      <th>ID</th>\n",
       "      <th>Warehouse_block</th>\n",
       "      <th>Mode_of_Shipment</th>\n",
       "      <th>Customer_care_calls</th>\n",
       "      <th>Customer_rating</th>\n",
       "      <th>Cost_of_the_Product</th>\n",
       "      <th>Prior_purchases</th>\n",
       "      <th>Product_importance</th>\n",
       "      <th>Gender</th>\n",
       "      <th>Discount_offered</th>\n",
       "      <th>...</th>\n",
       "      <th>Cost_of_the_Product_norm</th>\n",
       "      <th>Cost_of_the_Product_std</th>\n",
       "      <th>Warehouse_block_A</th>\n",
       "      <th>Warehouse_block_B</th>\n",
       "      <th>Warehouse_block_C</th>\n",
       "      <th>Warehouse_block_D</th>\n",
       "      <th>Warehouse_block_F</th>\n",
       "      <th>Mode_of_Shipment_Flight</th>\n",
       "      <th>Mode_of_Shipment_Road</th>\n",
       "      <th>Mode_of_Shipment_Ship</th>\n",
       "    </tr>\n",
       "  </thead>\n",
       "  <tbody>\n",
       "    <tr>\n",
       "      <th>0</th>\n",
       "      <td>1</td>\n",
       "      <td>D</td>\n",
       "      <td>Flight</td>\n",
       "      <td>-0.048116</td>\n",
       "      <td>-0.698920</td>\n",
       "      <td>-0.692246</td>\n",
       "      <td>-0.222042</td>\n",
       "      <td>1</td>\n",
       "      <td>0</td>\n",
       "      <td>1.695448</td>\n",
       "      <td>...</td>\n",
       "      <td>0.378505</td>\n",
       "      <td>-0.692246</td>\n",
       "      <td>0</td>\n",
       "      <td>0</td>\n",
       "      <td>0</td>\n",
       "      <td>1</td>\n",
       "      <td>0</td>\n",
       "      <td>1</td>\n",
       "      <td>0</td>\n",
       "      <td>0</td>\n",
       "    </tr>\n",
       "    <tr>\n",
       "      <th>1</th>\n",
       "      <td>2</td>\n",
       "      <td>F</td>\n",
       "      <td>Flight</td>\n",
       "      <td>-0.048116</td>\n",
       "      <td>1.420800</td>\n",
       "      <td>0.117585</td>\n",
       "      <td>-1.249366</td>\n",
       "      <td>1</td>\n",
       "      <td>1</td>\n",
       "      <td>1.970695</td>\n",
       "      <td>...</td>\n",
       "      <td>0.560748</td>\n",
       "      <td>0.117585</td>\n",
       "      <td>0</td>\n",
       "      <td>0</td>\n",
       "      <td>0</td>\n",
       "      <td>0</td>\n",
       "      <td>1</td>\n",
       "      <td>1</td>\n",
       "      <td>0</td>\n",
       "      <td>0</td>\n",
       "    </tr>\n",
       "    <tr>\n",
       "      <th>2</th>\n",
       "      <td>3</td>\n",
       "      <td>A</td>\n",
       "      <td>Flight</td>\n",
       "      <td>-1.782741</td>\n",
       "      <td>-0.698920</td>\n",
       "      <td>-0.567656</td>\n",
       "      <td>0.805281</td>\n",
       "      <td>1</td>\n",
       "      <td>1</td>\n",
       "      <td>1.777091</td>\n",
       "      <td>...</td>\n",
       "      <td>0.406542</td>\n",
       "      <td>-0.567656</td>\n",
       "      <td>1</td>\n",
       "      <td>0</td>\n",
       "      <td>0</td>\n",
       "      <td>0</td>\n",
       "      <td>0</td>\n",
       "      <td>1</td>\n",
       "      <td>0</td>\n",
       "      <td>0</td>\n",
       "    </tr>\n",
       "    <tr>\n",
       "      <th>3</th>\n",
       "      <td>4</td>\n",
       "      <td>B</td>\n",
       "      <td>Flight</td>\n",
       "      <td>-0.915428</td>\n",
       "      <td>0.007654</td>\n",
       "      <td>-0.713011</td>\n",
       "      <td>0.805281</td>\n",
       "      <td>2</td>\n",
       "      <td>1</td>\n",
       "      <td>0.305264</td>\n",
       "      <td>...</td>\n",
       "      <td>0.373832</td>\n",
       "      <td>-0.713011</td>\n",
       "      <td>0</td>\n",
       "      <td>1</td>\n",
       "      <td>0</td>\n",
       "      <td>0</td>\n",
       "      <td>0</td>\n",
       "      <td>1</td>\n",
       "      <td>0</td>\n",
       "      <td>0</td>\n",
       "    </tr>\n",
       "    <tr>\n",
       "      <th>4</th>\n",
       "      <td>5</td>\n",
       "      <td>C</td>\n",
       "      <td>Flight</td>\n",
       "      <td>-1.782741</td>\n",
       "      <td>-0.698920</td>\n",
       "      <td>-0.546892</td>\n",
       "      <td>-0.222042</td>\n",
       "      <td>2</td>\n",
       "      <td>0</td>\n",
       "      <td>1.737157</td>\n",
       "      <td>...</td>\n",
       "      <td>0.411215</td>\n",
       "      <td>-0.546892</td>\n",
       "      <td>0</td>\n",
       "      <td>0</td>\n",
       "      <td>1</td>\n",
       "      <td>0</td>\n",
       "      <td>0</td>\n",
       "      <td>1</td>\n",
       "      <td>0</td>\n",
       "      <td>0</td>\n",
       "    </tr>\n",
       "    <tr>\n",
       "      <th>...</th>\n",
       "      <td>...</td>\n",
       "      <td>...</td>\n",
       "      <td>...</td>\n",
       "      <td>...</td>\n",
       "      <td>...</td>\n",
       "      <td>...</td>\n",
       "      <td>...</td>\n",
       "      <td>...</td>\n",
       "      <td>...</td>\n",
       "      <td>...</td>\n",
       "      <td>...</td>\n",
       "      <td>...</td>\n",
       "      <td>...</td>\n",
       "      <td>...</td>\n",
       "      <td>...</td>\n",
       "      <td>...</td>\n",
       "      <td>...</td>\n",
       "      <td>...</td>\n",
       "      <td>...</td>\n",
       "      <td>...</td>\n",
       "      <td>...</td>\n",
       "    </tr>\n",
       "    <tr>\n",
       "      <th>10992</th>\n",
       "      <td>10993</td>\n",
       "      <td>D</td>\n",
       "      <td>Ship</td>\n",
       "      <td>0.819197</td>\n",
       "      <td>-1.405493</td>\n",
       "      <td>0.532883</td>\n",
       "      <td>1.832604</td>\n",
       "      <td>2</td>\n",
       "      <td>1</td>\n",
       "      <td>-0.824419</td>\n",
       "      <td>...</td>\n",
       "      <td>0.654206</td>\n",
       "      <td>0.532883</td>\n",
       "      <td>0</td>\n",
       "      <td>0</td>\n",
       "      <td>0</td>\n",
       "      <td>1</td>\n",
       "      <td>0</td>\n",
       "      <td>0</td>\n",
       "      <td>0</td>\n",
       "      <td>1</td>\n",
       "    </tr>\n",
       "    <tr>\n",
       "      <th>10994</th>\n",
       "      <td>10995</td>\n",
       "      <td>A</td>\n",
       "      <td>Ship</td>\n",
       "      <td>-0.048116</td>\n",
       "      <td>-1.405493</td>\n",
       "      <td>0.865121</td>\n",
       "      <td>1.832604</td>\n",
       "      <td>2</td>\n",
       "      <td>0</td>\n",
       "      <td>-1.855242</td>\n",
       "      <td>...</td>\n",
       "      <td>0.728972</td>\n",
       "      <td>0.865121</td>\n",
       "      <td>1</td>\n",
       "      <td>0</td>\n",
       "      <td>0</td>\n",
       "      <td>0</td>\n",
       "      <td>0</td>\n",
       "      <td>0</td>\n",
       "      <td>0</td>\n",
       "      <td>1</td>\n",
       "    </tr>\n",
       "    <tr>\n",
       "      <th>10995</th>\n",
       "      <td>10996</td>\n",
       "      <td>B</td>\n",
       "      <td>Ship</td>\n",
       "      <td>-0.048116</td>\n",
       "      <td>-1.405493</td>\n",
       "      <td>0.449823</td>\n",
       "      <td>1.832604</td>\n",
       "      <td>2</td>\n",
       "      <td>0</td>\n",
       "      <td>-0.174041</td>\n",
       "      <td>...</td>\n",
       "      <td>0.635514</td>\n",
       "      <td>0.449823</td>\n",
       "      <td>0</td>\n",
       "      <td>1</td>\n",
       "      <td>0</td>\n",
       "      <td>0</td>\n",
       "      <td>0</td>\n",
       "      <td>0</td>\n",
       "      <td>0</td>\n",
       "      <td>1</td>\n",
       "    </tr>\n",
       "    <tr>\n",
       "      <th>10996</th>\n",
       "      <td>10997</td>\n",
       "      <td>C</td>\n",
       "      <td>Ship</td>\n",
       "      <td>0.819197</td>\n",
       "      <td>0.714227</td>\n",
       "      <td>0.657472</td>\n",
       "      <td>1.832604</td>\n",
       "      <td>1</td>\n",
       "      <td>0</td>\n",
       "      <td>-0.554488</td>\n",
       "      <td>...</td>\n",
       "      <td>0.682243</td>\n",
       "      <td>0.657472</td>\n",
       "      <td>0</td>\n",
       "      <td>0</td>\n",
       "      <td>1</td>\n",
       "      <td>0</td>\n",
       "      <td>0</td>\n",
       "      <td>0</td>\n",
       "      <td>0</td>\n",
       "      <td>1</td>\n",
       "    </tr>\n",
       "    <tr>\n",
       "      <th>10998</th>\n",
       "      <td>10999</td>\n",
       "      <td>D</td>\n",
       "      <td>Ship</td>\n",
       "      <td>-1.782741</td>\n",
       "      <td>1.420800</td>\n",
       "      <td>-1.149073</td>\n",
       "      <td>1.832604</td>\n",
       "      <td>1</td>\n",
       "      <td>0</td>\n",
       "      <td>-0.174041</td>\n",
       "      <td>...</td>\n",
       "      <td>0.275701</td>\n",
       "      <td>-1.149073</td>\n",
       "      <td>0</td>\n",
       "      <td>0</td>\n",
       "      <td>0</td>\n",
       "      <td>1</td>\n",
       "      <td>0</td>\n",
       "      <td>0</td>\n",
       "      <td>0</td>\n",
       "      <td>1</td>\n",
       "    </tr>\n",
       "  </tbody>\n",
       "</table>\n",
       "<p>9878 rows × 22 columns</p>\n",
       "</div>"
      ],
      "text/plain": [
       "          ID Warehouse_block Mode_of_Shipment  Customer_care_calls  \\\n",
       "0          1               D           Flight            -0.048116   \n",
       "1          2               F           Flight            -0.048116   \n",
       "2          3               A           Flight            -1.782741   \n",
       "3          4               B           Flight            -0.915428   \n",
       "4          5               C           Flight            -1.782741   \n",
       "...      ...             ...              ...                  ...   \n",
       "10992  10993               D             Ship             0.819197   \n",
       "10994  10995               A             Ship            -0.048116   \n",
       "10995  10996               B             Ship            -0.048116   \n",
       "10996  10997               C             Ship             0.819197   \n",
       "10998  10999               D             Ship            -1.782741   \n",
       "\n",
       "       Customer_rating  Cost_of_the_Product  Prior_purchases  \\\n",
       "0            -0.698920            -0.692246        -0.222042   \n",
       "1             1.420800             0.117585        -1.249366   \n",
       "2            -0.698920            -0.567656         0.805281   \n",
       "3             0.007654            -0.713011         0.805281   \n",
       "4            -0.698920            -0.546892        -0.222042   \n",
       "...                ...                  ...              ...   \n",
       "10992        -1.405493             0.532883         1.832604   \n",
       "10994        -1.405493             0.865121         1.832604   \n",
       "10995        -1.405493             0.449823         1.832604   \n",
       "10996         0.714227             0.657472         1.832604   \n",
       "10998         1.420800            -1.149073         1.832604   \n",
       "\n",
       "       Product_importance  Gender  Discount_offered  ...  \\\n",
       "0                       1       0          1.695448  ...   \n",
       "1                       1       1          1.970695  ...   \n",
       "2                       1       1          1.777091  ...   \n",
       "3                       2       1          0.305264  ...   \n",
       "4                       2       0          1.737157  ...   \n",
       "...                   ...     ...               ...  ...   \n",
       "10992                   2       1         -0.824419  ...   \n",
       "10994                   2       0         -1.855242  ...   \n",
       "10995                   2       0         -0.174041  ...   \n",
       "10996                   1       0         -0.554488  ...   \n",
       "10998                   1       0         -0.174041  ...   \n",
       "\n",
       "       Cost_of_the_Product_norm  Cost_of_the_Product_std  Warehouse_block_A  \\\n",
       "0                      0.378505                -0.692246                  0   \n",
       "1                      0.560748                 0.117585                  0   \n",
       "2                      0.406542                -0.567656                  1   \n",
       "3                      0.373832                -0.713011                  0   \n",
       "4                      0.411215                -0.546892                  0   \n",
       "...                         ...                      ...                ...   \n",
       "10992                  0.654206                 0.532883                  0   \n",
       "10994                  0.728972                 0.865121                  1   \n",
       "10995                  0.635514                 0.449823                  0   \n",
       "10996                  0.682243                 0.657472                  0   \n",
       "10998                  0.275701                -1.149073                  0   \n",
       "\n",
       "       Warehouse_block_B  Warehouse_block_C  Warehouse_block_D  \\\n",
       "0                      0                  0                  1   \n",
       "1                      0                  0                  0   \n",
       "2                      0                  0                  0   \n",
       "3                      1                  0                  0   \n",
       "4                      0                  1                  0   \n",
       "...                  ...                ...                ...   \n",
       "10992                  0                  0                  1   \n",
       "10994                  0                  0                  0   \n",
       "10995                  1                  0                  0   \n",
       "10996                  0                  1                  0   \n",
       "10998                  0                  0                  1   \n",
       "\n",
       "       Warehouse_block_F  Mode_of_Shipment_Flight  Mode_of_Shipment_Road  \\\n",
       "0                      0                        1                      0   \n",
       "1                      1                        1                      0   \n",
       "2                      0                        1                      0   \n",
       "3                      0                        1                      0   \n",
       "4                      0                        1                      0   \n",
       "...                  ...                      ...                    ...   \n",
       "10992                  0                        0                      0   \n",
       "10994                  0                        0                      0   \n",
       "10995                  0                        0                      0   \n",
       "10996                  0                        0                      0   \n",
       "10998                  0                        0                      0   \n",
       "\n",
       "       Mode_of_Shipment_Ship  \n",
       "0                          0  \n",
       "1                          0  \n",
       "2                          0  \n",
       "3                          0  \n",
       "4                          0  \n",
       "...                      ...  \n",
       "10992                      1  \n",
       "10994                      1  \n",
       "10995                      1  \n",
       "10996                      1  \n",
       "10998                      1  \n",
       "\n",
       "[9878 rows x 22 columns]"
      ]
     },
     "execution_count": 61,
     "metadata": {},
     "output_type": "execute_result"
    }
   ],
   "source": [
    "df"
   ]
  },
  {
   "cell_type": "code",
   "execution_count": 62,
   "id": "a115ae70",
   "metadata": {
    "id": "1b7ea5b1-e6c5-4e83-8965-2d5c14dd4c05"
   },
   "outputs": [],
   "source": [
    "# drop kolom Warehouse_block dan Mode_of_Shipment yang asli (karena sudah di-encoding)\n",
    "df_new = df.drop(columns=['Warehouse_block','Mode_of_Shipment']).copy()"
   ]
  },
  {
   "cell_type": "code",
   "execution_count": 63,
   "id": "3ad803b1",
   "metadata": {
    "colab": {
     "base_uri": "https://localhost:8080/"
    },
    "id": "83ce4439-13f2-48e3-9228-4cda23b847be",
    "outputId": "c6f19a06-0413-4a07-e7c0-b9592289ac42"
   },
   "outputs": [
    {
     "name": "stdout",
     "output_type": "stream",
     "text": [
      "<class 'pandas.core.frame.DataFrame'>\n",
      "Int64Index: 9878 entries, 0 to 10998\n",
      "Data columns (total 20 columns):\n",
      " #   Column                    Non-Null Count  Dtype  \n",
      "---  ------                    --------------  -----  \n",
      " 0   ID                        9878 non-null   int64  \n",
      " 1   Customer_care_calls       9878 non-null   float64\n",
      " 2   Customer_rating           9878 non-null   float64\n",
      " 3   Cost_of_the_Product       9878 non-null   float64\n",
      " 4   Prior_purchases           9878 non-null   float64\n",
      " 5   Product_importance        9878 non-null   int8   \n",
      " 6   Gender                    9878 non-null   int8   \n",
      " 7   Discount_offered          9878 non-null   float64\n",
      " 8   Weight_in_gms             9878 non-null   float64\n",
      " 9   is_late                   9878 non-null   int64  \n",
      " 10  Cost_of_the_Product_norm  9878 non-null   float64\n",
      " 11  Cost_of_the_Product_std   9878 non-null   float64\n",
      " 12  Warehouse_block_A         9878 non-null   uint8  \n",
      " 13  Warehouse_block_B         9878 non-null   uint8  \n",
      " 14  Warehouse_block_C         9878 non-null   uint8  \n",
      " 15  Warehouse_block_D         9878 non-null   uint8  \n",
      " 16  Warehouse_block_F         9878 non-null   uint8  \n",
      " 17  Mode_of_Shipment_Flight   9878 non-null   uint8  \n",
      " 18  Mode_of_Shipment_Road     9878 non-null   uint8  \n",
      " 19  Mode_of_Shipment_Ship     9878 non-null   uint8  \n",
      "dtypes: float64(8), int64(2), int8(2), uint8(8)\n",
      "memory usage: 1.2 MB\n"
     ]
    }
   ],
   "source": [
    "df_new.info()"
   ]
  },
  {
   "cell_type": "code",
   "execution_count": null,
   "id": "67d83d7b",
   "metadata": {
    "id": "r2utds2afUrn"
   },
   "outputs": [],
   "source": []
  },
  {
   "cell_type": "markdown",
   "id": "da73cee5",
   "metadata": {
    "id": "94a9c063-40ff-4aee-ab2e-e237a0d3b175"
   },
   "source": [
    "## F. Class Imbalance"
   ]
  },
  {
   "cell_type": "code",
   "execution_count": 34,
   "id": "7bd85333",
   "metadata": {
    "colab": {
     "base_uri": "https://localhost:8080/"
    },
    "id": "da072da8-9e4a-4cbf-88b3-e639294633ef",
    "outputId": "cd9bbd03-da80-483c-94ce-d9375602d258",
    "scrolled": true
   },
   "outputs": [
    {
     "name": "stdout",
     "output_type": "stream",
     "text": [
      "Requirement already satisfied: imblearn in c:\\users\\aji15\\anaconda3\\lib\\site-packages (0.0)\n",
      "Requirement already satisfied: imbalanced-learn in c:\\users\\aji15\\anaconda3\\lib\\site-packages (from imblearn) (0.9.1)\n",
      "Requirement already satisfied: scipy>=1.3.2 in c:\\users\\aji15\\anaconda3\\lib\\site-packages (from imbalanced-learn->imblearn) (1.5.2)\n",
      "Requirement already satisfied: numpy>=1.17.3 in c:\\users\\aji15\\anaconda3\\lib\\site-packages (from imbalanced-learn->imblearn) (1.19.2)\n",
      "Requirement already satisfied: threadpoolctl>=2.0.0 in c:\\users\\aji15\\anaconda3\\lib\\site-packages (from imbalanced-learn->imblearn) (2.1.0)\n",
      "Requirement already satisfied: joblib>=1.0.0 in c:\\users\\aji15\\anaconda3\\lib\\site-packages (from imbalanced-learn->imblearn) (1.2.0)\n",
      "Requirement already satisfied: scikit-learn>=1.1.0 in c:\\users\\aji15\\anaconda3\\lib\\site-packages (from imbalanced-learn->imblearn) (1.1.3)\n"
     ]
    }
   ],
   "source": [
    "!pip install imblearn"
   ]
  },
  {
   "cell_type": "code",
   "execution_count": 64,
   "id": "25d2999e",
   "metadata": {},
   "outputs": [
    {
     "data": {
      "text/html": [
       "<div>\n",
       "<style scoped>\n",
       "    .dataframe tbody tr th:only-of-type {\n",
       "        vertical-align: middle;\n",
       "    }\n",
       "\n",
       "    .dataframe tbody tr th {\n",
       "        vertical-align: top;\n",
       "    }\n",
       "\n",
       "    .dataframe thead th {\n",
       "        text-align: right;\n",
       "    }\n",
       "</style>\n",
       "<table border=\"1\" class=\"dataframe\">\n",
       "  <thead>\n",
       "    <tr style=\"text-align: right;\">\n",
       "      <th></th>\n",
       "      <th>is_late</th>\n",
       "      <th>Jumlah</th>\n",
       "      <th>Ratio</th>\n",
       "    </tr>\n",
       "  </thead>\n",
       "  <tbody>\n",
       "    <tr>\n",
       "      <th>0</th>\n",
       "      <td>0</td>\n",
       "      <td>4024</td>\n",
       "      <td>40.736991</td>\n",
       "    </tr>\n",
       "    <tr>\n",
       "      <th>1</th>\n",
       "      <td>1</td>\n",
       "      <td>5854</td>\n",
       "      <td>59.263009</td>\n",
       "    </tr>\n",
       "  </tbody>\n",
       "</table>\n",
       "</div>"
      ],
      "text/plain": [
       "   is_late  Jumlah      Ratio\n",
       "0        0    4024  40.736991\n",
       "1        1    5854  59.263009"
      ]
     },
     "execution_count": 64,
     "metadata": {},
     "output_type": "execute_result"
    }
   ],
   "source": [
    "#Cek ratio jumlah nilai target\n",
    "\n",
    "df_ROD=df_new.groupby('is_late').agg({'ID':'count'}).reset_index().rename(columns={'ID':'Jumlah'})\n",
    "df_ROD['Ratio']=df_ROD['Jumlah']*100/df_ROD['Jumlah'].sum()\n",
    "df_ROD"
   ]
  },
  {
   "cell_type": "markdown",
   "id": "a5fa78a8",
   "metadata": {},
   "source": [
    "##### The ratio of the target looks balance."
   ]
  },
  {
   "cell_type": "markdown",
   "id": "834fbfd9",
   "metadata": {
    "id": "ab7a0370-8c1d-4cfe-873f-a325498b7ffc"
   },
   "source": [
    "# Nomor 2"
   ]
  },
  {
   "cell_type": "markdown",
   "id": "e44dfe02",
   "metadata": {
    "id": "c9b217af-322f-4b12-a01c-0c68acb4218e"
   },
   "source": [
    "## A. Feature Selection Menggunakan Pearson"
   ]
  },
  {
   "cell_type": "code",
   "execution_count": 65,
   "id": "aaa1db32",
   "metadata": {
    "id": "14f781a9-a1c2-4fe4-8cc4-a6ffe8cbe9a7"
   },
   "outputs": [],
   "source": [
    "import seaborn as sns\n",
    "import matplotlib.pyplot as plt"
   ]
  },
  {
   "cell_type": "code",
   "execution_count": 68,
   "id": "2525f435",
   "metadata": {
    "id": "da5b3817-418e-4f5e-8a8c-da93e4447dac"
   },
   "outputs": [],
   "source": [
    "corr_pearson = df_new.drop(columns=['ID','Cost_of_the_Product_std','Cost_of_the_Product_norm','Warehouse_block_A','Warehouse_block_B','Warehouse_block_C','Warehouse_block_D','Warehouse_block_F','Mode_of_Shipment_Flight','Mode_of_Shipment_Road','Mode_of_Shipment_Ship']).corr()"
   ]
  },
  {
   "cell_type": "code",
   "execution_count": 69,
   "id": "8c6a8cde",
   "metadata": {
    "colab": {
     "base_uri": "https://localhost:8080/"
    },
    "id": "8ced51ff-9bc1-420b-9037-6162ff86a3a5",
    "outputId": "fe9b10cb-e220-45b5-84f4-cbd1288e4068"
   },
   "outputs": [
    {
     "data": {
      "image/png": "[encoded data removed]",
      "text/plain": [
       "<Figure size 864x576 with 2 Axes>"
      ]
     },
     "metadata": {
      "needs_background": "light"
     },
     "output_type": "display_data"
    }
   ],
   "source": [
    "plt.figure(figsize=(12,8))\n",
    "sns.heatmap(corr_pearson, cmap=\"RdBu_r\",annot=True)\n",
    "\n",
    "plt.title('Correlation between Numeric Variables')\n",
    "plt.show()"
   ]
  },
  {
   "cell_type": "markdown",
   "id": "02738720",
   "metadata": {
    "id": "bea77eab-2e97-4d3e-94e0-691c00766375"
   },
   "source": [
    "Karena Feature Selection ini menggunakan Pearson. Maka Negatif pun bisa dijadikan patokan untuk korelasi."
   ]
  },
  {
   "cell_type": "markdown",
   "id": "525c534a",
   "metadata": {
    "id": "bddb45c6-b29b-48e4-b03d-e1325639dba9"
   },
   "source": [
    "#### Summary\n",
    "*   ID sebenarnya berkorelasi dengan yang lain, namun ID sebaiknya di \"dont care\" kan, karena ID termasuk kedalam data yang terurut\n",
    "*   Target dari dataset ini adalah melihat kolom Reached On Time\n",
    "*   Korelasi tertinggi pada sisi target dimiliki oleh Discount Offered dengan nilai 0.35\n",
    "*   Korelasi kolom lain dengan target adalah dengan Weight dengan nilai -0.27 (meskipun minus, di pearson tetap terkorelasi)\n",
    "*  Fitur lain selain target yang berkorelasi dan termasuk kedalam fitur yang penting adalah Prior Purchase, Customer Care Calls, Cost of Product, Discount Offered, Weight in gms\n",
    "*  Feature atau kolom yang dihapus adalah Customer Rating (rendah korelasi nya) sesuai dengan hasil korelasi pearson\n",
    "*  **Hasil Feature Selection** adalah Reached on time, Prior Purchase, Customer Care Calls, Cost of Product, Discount Offered, Weight in gms.\n",
    "\n",
    "\n",
    "\n",
    "\n",
    "\n",
    "\n",
    "\n"
   ]
  },
  {
   "cell_type": "markdown",
   "id": "35a20da0",
   "metadata": {
    "id": "50b4148d-7fa4-4177-bed9-8696d0f5e8ed"
   },
   "source": [
    "#### Requirements\n",
    "* Menggunakan Feature Selection Pearson\n",
    "* Tidak ada kolom yang dihapus untuk test, karena pearson menggunakan numerical\n",
    "* Feature atau kolom yang dihapus adalah Customer Rating (rendah korelasi nya) sesuai dengan hasil korelasi pearson"
   ]
  },
  {
   "cell_type": "markdown",
   "id": "58adc8c2",
   "metadata": {
    "id": "80zK6BDYhXxJ"
   },
   "source": [
    "# Stage 3"
   ]
  },
  {
   "cell_type": "code",
   "execution_count": 73,
   "id": "29e328ce",
   "metadata": {
    "colab": {
     "base_uri": "https://localhost:8080/",
     "height": 165
    },
    "id": "aafc6cfd-2b6a-4f84-a9f6-9e48afe31872",
    "outputId": "97fc7379-8d2f-40a3-9f9f-69d7f2d081c5"
   },
   "outputs": [
    {
     "name": "stdout",
     "output_type": "stream",
     "text": [
      "<class 'pandas.core.frame.DataFrame'>\n",
      "Int64Index: 9878 entries, 0 to 10998\n",
      "Data columns (total 20 columns):\n",
      " #   Column                    Non-Null Count  Dtype  \n",
      "---  ------                    --------------  -----  \n",
      " 0   ID                        9878 non-null   int64  \n",
      " 1   Customer_care_calls       9878 non-null   float64\n",
      " 2   Customer_rating           9878 non-null   float64\n",
      " 3   Cost_of_the_Product       9878 non-null   float64\n",
      " 4   Prior_purchases           9878 non-null   float64\n",
      " 5   Product_importance        9878 non-null   int8   \n",
      " 6   Gender                    9878 non-null   int8   \n",
      " 7   Discount_offered          9878 non-null   float64\n",
      " 8   Weight_in_gms             9878 non-null   float64\n",
      " 9   is_late                   9878 non-null   int64  \n",
      " 10  Cost_of_the_Product_norm  9878 non-null   float64\n",
      " 11  Cost_of_the_Product_std   9878 non-null   float64\n",
      " 12  Warehouse_block_A         9878 non-null   uint8  \n",
      " 13  Warehouse_block_B         9878 non-null   uint8  \n",
      " 14  Warehouse_block_C         9878 non-null   uint8  \n",
      " 15  Warehouse_block_D         9878 non-null   uint8  \n",
      " 16  Warehouse_block_F         9878 non-null   uint8  \n",
      " 17  Mode_of_Shipment_Flight   9878 non-null   uint8  \n",
      " 18  Mode_of_Shipment_Road     9878 non-null   uint8  \n",
      " 19  Mode_of_Shipment_Ship     9878 non-null   uint8  \n",
      "dtypes: float64(8), int64(2), int8(2), uint8(8)\n",
      "memory usage: 1.2 MB\n"
     ]
    }
   ],
   "source": [
    "df_new.info()"
   ]
  },
  {
   "cell_type": "markdown",
   "id": "1bf26a63",
   "metadata": {},
   "source": [
    "### Separate feature & target column"
   ]
  },
  {
   "cell_type": "code",
   "execution_count": 81,
   "id": "a23f0fdc",
   "metadata": {},
   "outputs": [],
   "source": [
    "x = df_new.drop(columns=['ID','is_late'])\n",
    "y = df_new['is_late']"
   ]
  },
  {
   "cell_type": "markdown",
   "id": "ab8e4b01",
   "metadata": {},
   "source": [
    "### Split train & test data"
   ]
  },
  {
   "cell_type": "code",
   "execution_count": 82,
   "id": "c8eef358",
   "metadata": {
    "id": "c652ac26-cd80-40b3-aa5c-be388a4ef826"
   },
   "outputs": [],
   "source": [
    "from sklearn.model_selection import train_test_split\n",
    "xtrain, xtest, ytrain, ytest = train_test_split(x,y,test_size=0.3,random_state=42)"
   ]
  },
  {
   "cell_type": "code",
   "execution_count": 89,
   "id": "e18dc3ca",
   "metadata": {},
   "outputs": [
    {
     "data": {
      "text/plain": [
       "(9878, 20)"
      ]
     },
     "execution_count": 89,
     "metadata": {},
     "output_type": "execute_result"
    }
   ],
   "source": [
    "df_new.shape"
   ]
  },
  {
   "cell_type": "code",
   "execution_count": 90,
   "id": "36deaf95",
   "metadata": {},
   "outputs": [
    {
     "data": {
      "text/plain": [
       "(6914, 18)"
      ]
     },
     "execution_count": 90,
     "metadata": {},
     "output_type": "execute_result"
    }
   ],
   "source": [
    "xtrain.shape"
   ]
  },
  {
   "cell_type": "code",
   "execution_count": 91,
   "id": "9ed16404",
   "metadata": {},
   "outputs": [
    {
     "data": {
      "text/plain": [
       "(2964, 18)"
      ]
     },
     "execution_count": 91,
     "metadata": {},
     "output_type": "execute_result"
    }
   ],
   "source": [
    "xtest.shape"
   ]
  },
  {
   "cell_type": "code",
   "execution_count": 92,
   "id": "26114305",
   "metadata": {},
   "outputs": [
    {
     "data": {
      "text/plain": [
       "(6914,)"
      ]
     },
     "execution_count": 92,
     "metadata": {},
     "output_type": "execute_result"
    }
   ],
   "source": [
    "ytrain.shape"
   ]
  },
  {
   "cell_type": "code",
   "execution_count": 93,
   "id": "faee60d9",
   "metadata": {},
   "outputs": [
    {
     "data": {
      "text/plain": [
       "(2964,)"
      ]
     },
     "execution_count": 93,
     "metadata": {},
     "output_type": "execute_result"
    }
   ],
   "source": [
    "ytest.shape"
   ]
  },
  {
   "cell_type": "markdown",
   "id": "bd2ceda8",
   "metadata": {},
   "source": [
    "### Fit & Evaluation Model"
   ]
  },
  {
   "cell_type": "code",
   "execution_count": 95,
   "id": "092c669b",
   "metadata": {},
   "outputs": [],
   "source": [
    "# Create function to fit model & model evaluation\n",
    "def fit_evaluation(Model, xtrain, ytrain, xtest, ytest):\n",
    "    model = Model # initiate model\n",
    "    model.fit(xtrain, ytrain) # fit the model\n",
    "    y_pred = model.predict(xtest)\n",
    "    y_pred_train = model.predict(xtrain)\n",
    "    train_score = model.score(xtrain, ytrain) # Train Accuracy\n",
    "    test_score = model.score(xtest, ytest)    # Test Accuracy\n",
    "    fpr, tpr, thresholds = roc_curve(ytest, y_pred, pos_label=1)\n",
    "    AUC = auc(fpr, tpr) # AUC\n",
    "    return round(train_score,2), round(test_score,2), round(precision_score(ytest, y_pred),2), \\\n",
    "           round(recall_score(ytrain, y_pred_train),2),round(recall_score(ytest, y_pred),2), \\\n",
    "           round(f1_score(ytest, y_pred),2), round(AUC,2)"
   ]
  },
  {
   "cell_type": "code",
   "execution_count": 98,
   "id": "d6053502",
   "metadata": {},
   "outputs": [],
   "source": [
    "#Inisiasi algoritma\n",
    "lr = LogisticRegression(random_state=42)\n",
    "dt = DecisionTreeClassifier(random_state=42)\n",
    "rf = RandomForestClassifier(random_state=42)\n",
    "knn = KNeighborsClassifier(n_neighbors=5)"
   ]
  },
  {
   "cell_type": "markdown",
   "id": "b9dadfc7",
   "metadata": {},
   "source": [
    "## Membuat function untuk menjadikan hasilnya sebagai Data Frame"
   ]
  },
  {
   "cell_type": "code",
   "execution_count": 116,
   "id": "251ed062",
   "metadata": {},
   "outputs": [],
   "source": [
    "def model_comparison_default(x,y):\n",
    "    #Logistic Regression\n",
    "    lr_train_score, lr_test_score, lr_pr, lrtr_re, lrte_re, lr_f1, lr_auc = fit_evaluation(lr, xtrain, ytrain, xtest, ytest)\n",
    "    #Decision Tree\n",
    "    dt_train_score, dt_test_score, dt_pr, dttr_re, dtte_re, dt_f1, dt_auc = fit_evaluation(dt, xtrain, ytrain, xtest, ytest)\n",
    "    #Random Forest\n",
    "    rf_train_score, rf_test_score, rf_pr, rftr_re, rfte_re, rf_f1, rf_auc = fit_evaluation(rf, xtrain, ytrain, xtest, ytest)\n",
    "    #KNN\n",
    "    knn_train_score, knn_test_score, knn_pr, knntr_re, knnte_re, knn_f1, knn_auc = fit_evaluation(knn, xtrain, ytrain, xtest, ytest)\n",
    "    \n",
    "    models = ['Logistic Regression','Decision Tree','Random Forest','KNN']\n",
    "    train_score = [lr_train_score, dt_train_score, rf_train_score, knn_train_score]\n",
    "    test_score = [lr_test_score, dt_test_score, rf_test_score, knn_test_score]\n",
    "    precision = [lr_pr, dt_pr, rf_pr, knn_pr]\n",
    "    recall_train = [lrtr_re, dttr_re, rftr_re, knntr_re]\n",
    "    recall_test = [lrte_re, dtte_re, rfte_re, knnte_re]\n",
    "    f1 = [lr_f1, dt_f1, rf_f1, knn_f1]\n",
    "    auc = [lr_auc, dt_auc, rf_auc, knn_auc]\n",
    "    \n",
    "    model_comparison = pd.DataFrame(data=[models, train_score, test_score, \n",
    "                                          precision, recall_train, recall_test,\n",
    "                                          f1,auc]).T.rename({0: 'Model',\n",
    "                                                             1: 'Accuracy_Train',\n",
    "                                                             2: 'Accuracy_Test',\n",
    "                                                             3: 'Precision',\n",
    "                                                             4: 'Recall_Train',\n",
    "                                                             5: 'Recall_Test',\n",
    "                                                             6: 'F1 Score',\n",
    "                                                             7: 'AUC'\n",
    "                                            }, axis=1)\n",
    "    \n",
    "    return model_comparison"
   ]
  },
  {
   "cell_type": "code",
   "execution_count": 117,
   "id": "bdf51736",
   "metadata": {
    "scrolled": true
   },
   "outputs": [
    {
     "data": {
      "text/html": [
       "<div>\n",
       "<style scoped>\n",
       "    .dataframe tbody tr th:only-of-type {\n",
       "        vertical-align: middle;\n",
       "    }\n",
       "\n",
       "    .dataframe tbody tr th {\n",
       "        vertical-align: top;\n",
       "    }\n",
       "\n",
       "    .dataframe thead th {\n",
       "        text-align: right;\n",
       "    }\n",
       "</style>\n",
       "<table border=\"1\" class=\"dataframe\">\n",
       "  <thead>\n",
       "    <tr style=\"text-align: right;\">\n",
       "      <th></th>\n",
       "      <th>Model</th>\n",
       "      <th>Accuracy_Train</th>\n",
       "      <th>Accuracy_Test</th>\n",
       "      <th>Precision</th>\n",
       "      <th>Recall_Train</th>\n",
       "      <th>Recall_Test</th>\n",
       "      <th>F1 Score</th>\n",
       "      <th>AUC</th>\n",
       "    </tr>\n",
       "  </thead>\n",
       "  <tbody>\n",
       "    <tr>\n",
       "      <th>0</th>\n",
       "      <td>Logistic Regression</td>\n",
       "      <td>0.63</td>\n",
       "      <td>0.64</td>\n",
       "      <td>0.69</td>\n",
       "      <td>0.73</td>\n",
       "      <td>0.73</td>\n",
       "      <td>0.71</td>\n",
       "      <td>0.62</td>\n",
       "    </tr>\n",
       "    <tr>\n",
       "      <th>1</th>\n",
       "      <td>Decision Tree</td>\n",
       "      <td>1</td>\n",
       "      <td>0.65</td>\n",
       "      <td>0.7</td>\n",
       "      <td>1</td>\n",
       "      <td>0.72</td>\n",
       "      <td>0.71</td>\n",
       "      <td>0.64</td>\n",
       "    </tr>\n",
       "    <tr>\n",
       "      <th>2</th>\n",
       "      <td>Random Forest</td>\n",
       "      <td>1</td>\n",
       "      <td>0.66</td>\n",
       "      <td>0.76</td>\n",
       "      <td>1</td>\n",
       "      <td>0.63</td>\n",
       "      <td>0.69</td>\n",
       "      <td>0.67</td>\n",
       "    </tr>\n",
       "    <tr>\n",
       "      <th>3</th>\n",
       "      <td>KNN</td>\n",
       "      <td>0.76</td>\n",
       "      <td>0.64</td>\n",
       "      <td>0.71</td>\n",
       "      <td>0.77</td>\n",
       "      <td>0.67</td>\n",
       "      <td>0.69</td>\n",
       "      <td>0.64</td>\n",
       "    </tr>\n",
       "  </tbody>\n",
       "</table>\n",
       "</div>"
      ],
      "text/plain": [
       "                 Model Accuracy_Train Accuracy_Test Precision Recall_Train  \\\n",
       "0  Logistic Regression           0.63          0.64      0.69         0.73   \n",
       "1        Decision Tree              1          0.65       0.7            1   \n",
       "2        Random Forest              1          0.66      0.76            1   \n",
       "3                  KNN           0.76          0.64      0.71         0.77   \n",
       "\n",
       "  Recall_Test F1 Score   AUC  \n",
       "0        0.73     0.71  0.62  \n",
       "1        0.72     0.71  0.64  \n",
       "2        0.63     0.69  0.67  \n",
       "3        0.67     0.69  0.64  "
      ]
     },
     "execution_count": 117,
     "metadata": {},
     "output_type": "execute_result"
    }
   ],
   "source": [
    "model_comparison_default(x,y)"
   ]
  },
  {
   "cell_type": "markdown",
   "id": "384a65ff",
   "metadata": {},
   "source": [
    "## Hyperparameter"
   ]
  },
  {
   "cell_type": "markdown",
   "id": "3698593b",
   "metadata": {},
   "source": [
    "### Logistic Regression"
   ]
  },
  {
   "cell_type": "code",
   "execution_count": 118,
   "id": "797d1e74",
   "metadata": {},
   "outputs": [
    {
     "data": {
      "text/html": [
       "<style>#sk-container-id-1 {color: black;background-color: white;}#sk-container-id-1 pre{padding: 0;}#sk-container-id-1 div.sk-toggleable {background-color: white;}#sk-container-id-1 label.sk-toggleable__label {cursor: pointer;display: block;width: 100%;margin-bottom: 0;padding: 0.3em;box-sizing: border-box;text-align: center;}#sk-container-id-1 label.sk-toggleable__label-arrow:before {content: \"▸\";float: left;margin-right: 0.25em;color: #696969;}#sk-container-id-1 label.sk-toggleable__label-arrow:hover:before {color: black;}#sk-container-id-1 div.sk-estimator:hover label.sk-toggleable__label-arrow:before {color: black;}#sk-container-id-1 div.sk-toggleable__content {max-height: 0;max-width: 0;overflow: hidden;text-align: left;background-color: #f0f8ff;}#sk-container-id-1 div.sk-toggleable__content pre {margin: 0.2em;color: black;border-radius: 0.25em;background-color: #f0f8ff;}#sk-container-id-1 input.sk-toggleable__control:checked~div.sk-toggleable__content {max-height: 200px;max-width: 100%;overflow: auto;}#sk-container-id-1 input.sk-toggleable__control:checked~label.sk-toggleable__label-arrow:before {content: \"▾\";}#sk-container-id-1 div.sk-estimator input.sk-toggleable__control:checked~label.sk-toggleable__label {background-color: #d4ebff;}#sk-container-id-1 div.sk-label input.sk-toggleable__control:checked~label.sk-toggleable__label {background-color: #d4ebff;}#sk-container-id-1 input.sk-hidden--visually {border: 0;clip: rect(1px 1px 1px 1px);clip: rect(1px, 1px, 1px, 1px);height: 1px;margin: -1px;overflow: hidden;padding: 0;position: absolute;width: 1px;}#sk-container-id-1 div.sk-estimator {font-family: monospace;background-color: #f0f8ff;border: 1px dotted black;border-radius: 0.25em;box-sizing: border-box;margin-bottom: 0.5em;}#sk-container-id-1 div.sk-estimator:hover {background-color: #d4ebff;}#sk-container-id-1 div.sk-parallel-item::after {content: \"\";width: 100%;border-bottom: 1px solid gray;flex-grow: 1;}#sk-container-id-1 div.sk-label:hover label.sk-toggleable__label {background-color: #d4ebff;}#sk-container-id-1 div.sk-serial::before {content: \"\";position: absolute;border-left: 1px solid gray;box-sizing: border-box;top: 0;bottom: 0;left: 50%;z-index: 0;}#sk-container-id-1 div.sk-serial {display: flex;flex-direction: column;align-items: center;background-color: white;padding-right: 0.2em;padding-left: 0.2em;position: relative;}#sk-container-id-1 div.sk-item {position: relative;z-index: 1;}#sk-container-id-1 div.sk-parallel {display: flex;align-items: stretch;justify-content: center;background-color: white;position: relative;}#sk-container-id-1 div.sk-item::before, #sk-container-id-1 div.sk-parallel-item::before {content: \"\";position: absolute;border-left: 1px solid gray;box-sizing: border-box;top: 0;bottom: 0;left: 50%;z-index: -1;}#sk-container-id-1 div.sk-parallel-item {display: flex;flex-direction: column;z-index: 1;position: relative;background-color: white;}#sk-container-id-1 div.sk-parallel-item:first-child::after {align-self: flex-end;width: 50%;}#sk-container-id-1 div.sk-parallel-item:last-child::after {align-self: flex-start;width: 50%;}#sk-container-id-1 div.sk-parallel-item:only-child::after {width: 0;}#sk-container-id-1 div.sk-dashed-wrapped {border: 1px dashed gray;margin: 0 0.4em 0.5em 0.4em;box-sizing: border-box;padding-bottom: 0.4em;background-color: white;}#sk-container-id-1 div.sk-label label {font-family: monospace;font-weight: bold;display: inline-block;line-height: 1.2em;}#sk-container-id-1 div.sk-label-container {text-align: center;}#sk-container-id-1 div.sk-container {/* jupyter's `normalize.less` sets `[hidden] { display: none; }` but bootstrap.min.css set `[hidden] { display: none !important; }` so we also need the `!important` here to be able to override the default hidden behavior on the sphinx rendered scikit-learn.org. See: https://github.com/scikit-learn/scikit-learn/issues/21755 */display: inline-block !important;position: relative;}#sk-container-id-1 div.sk-text-repr-fallback {display: none;}</style><div id=\"sk-container-id-1\" class=\"sk-top-container\"><div class=\"sk-text-repr-fallback\"><pre>LogisticRegression(C=0.0001, random_state=42)</pre><b>In a Jupyter environment, please rerun this cell to show the HTML representation or trust the notebook. <br />On GitHub, the HTML representation is unable to render, please try loading this page with nbviewer.org.</b></div><div class=\"sk-container\" hidden><div class=\"sk-item\"><div class=\"sk-estimator sk-toggleable\"><input class=\"sk-toggleable__control sk-hidden--visually\" id=\"sk-estimator-id-1\" type=\"checkbox\" checked><label for=\"sk-estimator-id-1\" class=\"sk-toggleable__label sk-toggleable__label-arrow\">LogisticRegression</label><div class=\"sk-toggleable__content\"><pre>LogisticRegression(C=0.0001, random_state=42)</pre></div></div></div></div></div>"
      ],
      "text/plain": [
       "LogisticRegression(C=0.0001, random_state=42)"
      ]
     },
     "execution_count": 118,
     "metadata": {},
     "output_type": "execute_result"
    }
   ],
   "source": [
    "# List Hyperparameters yang akan diuji\n",
    "penalty = ['l2','l1','elasticnet']\n",
    "C = [0.0001, 0.001, 0.002] # Inverse of regularization strength; smaller values specify stronger regularization.\n",
    "hyperparameters = dict(penalty=penalty, C=C)\n",
    "\n",
    "# Inisiasi model\n",
    "logres = LogisticRegression(random_state=42) # Init Logres dengan Gridsearch, cross validation = 5\n",
    "model = RandomizedSearchCV(logres, hyperparameters, cv=5, random_state=42,  scoring='recall')\n",
    "\n",
    "# Fitting Model & Evaluation\n",
    "model.fit(xtrain, ytrain)\n",
    "y_pred = model.predict(xtest)\n",
    "model.best_estimator_"
   ]
  },
  {
   "cell_type": "markdown",
   "id": "6fbc9788",
   "metadata": {},
   "source": [
    "### Decision Tree"
   ]
  },
  {
   "cell_type": "code",
   "execution_count": 120,
   "id": "07e88834",
   "metadata": {},
   "outputs": [
    {
     "data": {
      "text/html": [
       "<style>#sk-container-id-2 {color: black;background-color: white;}#sk-container-id-2 pre{padding: 0;}#sk-container-id-2 div.sk-toggleable {background-color: white;}#sk-container-id-2 label.sk-toggleable__label {cursor: pointer;display: block;width: 100%;margin-bottom: 0;padding: 0.3em;box-sizing: border-box;text-align: center;}#sk-container-id-2 label.sk-toggleable__label-arrow:before {content: \"▸\";float: left;margin-right: 0.25em;color: #696969;}#sk-container-id-2 label.sk-toggleable__label-arrow:hover:before {color: black;}#sk-container-id-2 div.sk-estimator:hover label.sk-toggleable__label-arrow:before {color: black;}#sk-container-id-2 div.sk-toggleable__content {max-height: 0;max-width: 0;overflow: hidden;text-align: left;background-color: #f0f8ff;}#sk-container-id-2 div.sk-toggleable__content pre {margin: 0.2em;color: black;border-radius: 0.25em;background-color: #f0f8ff;}#sk-container-id-2 input.sk-toggleable__control:checked~div.sk-toggleable__content {max-height: 200px;max-width: 100%;overflow: auto;}#sk-container-id-2 input.sk-toggleable__control:checked~label.sk-toggleable__label-arrow:before {content: \"▾\";}#sk-container-id-2 div.sk-estimator input.sk-toggleable__control:checked~label.sk-toggleable__label {background-color: #d4ebff;}#sk-container-id-2 div.sk-label input.sk-toggleable__control:checked~label.sk-toggleable__label {background-color: #d4ebff;}#sk-container-id-2 input.sk-hidden--visually {border: 0;clip: rect(1px 1px 1px 1px);clip: rect(1px, 1px, 1px, 1px);height: 1px;margin: -1px;overflow: hidden;padding: 0;position: absolute;width: 1px;}#sk-container-id-2 div.sk-estimator {font-family: monospace;background-color: #f0f8ff;border: 1px dotted black;border-radius: 0.25em;box-sizing: border-box;margin-bottom: 0.5em;}#sk-container-id-2 div.sk-estimator:hover {background-color: #d4ebff;}#sk-container-id-2 div.sk-parallel-item::after {content: \"\";width: 100%;border-bottom: 1px solid gray;flex-grow: 1;}#sk-container-id-2 div.sk-label:hover label.sk-toggleable__label {background-color: #d4ebff;}#sk-container-id-2 div.sk-serial::before {content: \"\";position: absolute;border-left: 1px solid gray;box-sizing: border-box;top: 0;bottom: 0;left: 50%;z-index: 0;}#sk-container-id-2 div.sk-serial {display: flex;flex-direction: column;align-items: center;background-color: white;padding-right: 0.2em;padding-left: 0.2em;position: relative;}#sk-container-id-2 div.sk-item {position: relative;z-index: 1;}#sk-container-id-2 div.sk-parallel {display: flex;align-items: stretch;justify-content: center;background-color: white;position: relative;}#sk-container-id-2 div.sk-item::before, #sk-container-id-2 div.sk-parallel-item::before {content: \"\";position: absolute;border-left: 1px solid gray;box-sizing: border-box;top: 0;bottom: 0;left: 50%;z-index: -1;}#sk-container-id-2 div.sk-parallel-item {display: flex;flex-direction: column;z-index: 1;position: relative;background-color: white;}#sk-container-id-2 div.sk-parallel-item:first-child::after {align-self: flex-end;width: 50%;}#sk-container-id-2 div.sk-parallel-item:last-child::after {align-self: flex-start;width: 50%;}#sk-container-id-2 div.sk-parallel-item:only-child::after {width: 0;}#sk-container-id-2 div.sk-dashed-wrapped {border: 1px dashed gray;margin: 0 0.4em 0.5em 0.4em;box-sizing: border-box;padding-bottom: 0.4em;background-color: white;}#sk-container-id-2 div.sk-label label {font-family: monospace;font-weight: bold;display: inline-block;line-height: 1.2em;}#sk-container-id-2 div.sk-label-container {text-align: center;}#sk-container-id-2 div.sk-container {/* jupyter's `normalize.less` sets `[hidden] { display: none; }` but bootstrap.min.css set `[hidden] { display: none !important; }` so we also need the `!important` here to be able to override the default hidden behavior on the sphinx rendered scikit-learn.org. See: https://github.com/scikit-learn/scikit-learn/issues/21755 */display: inline-block !important;position: relative;}#sk-container-id-2 div.sk-text-repr-fallback {display: none;}</style><div id=\"sk-container-id-2\" class=\"sk-top-container\"><div class=\"sk-text-repr-fallback\"><pre>DecisionTreeClassifier(criterion=&#x27;entropy&#x27;, max_depth=9, max_features=&#x27;auto&#x27;,\n",
       "                       min_samples_leaf=14, min_samples_split=5,\n",
       "                       random_state=42, splitter=&#x27;random&#x27;)</pre><b>In a Jupyter environment, please rerun this cell to show the HTML representation or trust the notebook. <br />On GitHub, the HTML representation is unable to render, please try loading this page with nbviewer.org.</b></div><div class=\"sk-container\" hidden><div class=\"sk-item\"><div class=\"sk-estimator sk-toggleable\"><input class=\"sk-toggleable__control sk-hidden--visually\" id=\"sk-estimator-id-2\" type=\"checkbox\" checked><label for=\"sk-estimator-id-2\" class=\"sk-toggleable__label sk-toggleable__label-arrow\">DecisionTreeClassifier</label><div class=\"sk-toggleable__content\"><pre>DecisionTreeClassifier(criterion=&#x27;entropy&#x27;, max_depth=9, max_features=&#x27;auto&#x27;,\n",
       "                       min_samples_leaf=14, min_samples_split=5,\n",
       "                       random_state=42, splitter=&#x27;random&#x27;)</pre></div></div></div></div></div>"
      ],
      "text/plain": [
       "DecisionTreeClassifier(criterion='entropy', max_depth=9, max_features='auto',\n",
       "                       min_samples_leaf=14, min_samples_split=5,\n",
       "                       random_state=42, splitter='random')"
      ]
     },
     "execution_count": 120,
     "metadata": {},
     "output_type": "execute_result"
    }
   ],
   "source": [
    "# Let's do hyperparameter tuning using RandomizesearchCV\n",
    "\n",
    "# Hyperparameter lists to be tested\n",
    "max_depth = list(range(1,10)) \n",
    "min_samples_split = list(range(5,10)) \n",
    "min_samples_leaf = list(range(5,15)) \n",
    "max_features = ['auto', 'sqrt', 'log2'] \n",
    "criterion = ['gini','entropy']\n",
    "splitter = ['best','random']\n",
    "\n",
    "# Initiate hyperparameters\n",
    "hyperparameters = dict(max_depth=max_depth, \n",
    "                       min_samples_split=min_samples_split, \n",
    "                       min_samples_leaf=min_samples_leaf,\n",
    "                       max_features=max_features,\n",
    "                       criterion = criterion,\n",
    "                       splitter = splitter)\n",
    "\n",
    "# Initiate model\n",
    "dt_tun = DecisionTreeClassifier(random_state=42)\n",
    "model = RandomizedSearchCV(dt_tun, hyperparameters, cv=10, scoring='recall',random_state=42) \n",
    "model.fit(xtrain, ytrain)\n",
    "y_pred_tun = model.predict(xtest)\n",
    "model.best_estimator_"
   ]
  },
  {
   "cell_type": "markdown",
   "id": "4040e84d",
   "metadata": {},
   "source": [
    "### Random Forest"
   ]
  },
  {
   "cell_type": "code",
   "execution_count": 121,
   "id": "cd6337cb",
   "metadata": {},
   "outputs": [
    {
     "data": {
      "text/html": [
       "<style>#sk-container-id-3 {color: black;background-color: white;}#sk-container-id-3 pre{padding: 0;}#sk-container-id-3 div.sk-toggleable {background-color: white;}#sk-container-id-3 label.sk-toggleable__label {cursor: pointer;display: block;width: 100%;margin-bottom: 0;padding: 0.3em;box-sizing: border-box;text-align: center;}#sk-container-id-3 label.sk-toggleable__label-arrow:before {content: \"▸\";float: left;margin-right: 0.25em;color: #696969;}#sk-container-id-3 label.sk-toggleable__label-arrow:hover:before {color: black;}#sk-container-id-3 div.sk-estimator:hover label.sk-toggleable__label-arrow:before {color: black;}#sk-container-id-3 div.sk-toggleable__content {max-height: 0;max-width: 0;overflow: hidden;text-align: left;background-color: #f0f8ff;}#sk-container-id-3 div.sk-toggleable__content pre {margin: 0.2em;color: black;border-radius: 0.25em;background-color: #f0f8ff;}#sk-container-id-3 input.sk-toggleable__control:checked~div.sk-toggleable__content {max-height: 200px;max-width: 100%;overflow: auto;}#sk-container-id-3 input.sk-toggleable__control:checked~label.sk-toggleable__label-arrow:before {content: \"▾\";}#sk-container-id-3 div.sk-estimator input.sk-toggleable__control:checked~label.sk-toggleable__label {background-color: #d4ebff;}#sk-container-id-3 div.sk-label input.sk-toggleable__control:checked~label.sk-toggleable__label {background-color: #d4ebff;}#sk-container-id-3 input.sk-hidden--visually {border: 0;clip: rect(1px 1px 1px 1px);clip: rect(1px, 1px, 1px, 1px);height: 1px;margin: -1px;overflow: hidden;padding: 0;position: absolute;width: 1px;}#sk-container-id-3 div.sk-estimator {font-family: monospace;background-color: #f0f8ff;border: 1px dotted black;border-radius: 0.25em;box-sizing: border-box;margin-bottom: 0.5em;}#sk-container-id-3 div.sk-estimator:hover {background-color: #d4ebff;}#sk-container-id-3 div.sk-parallel-item::after {content: \"\";width: 100%;border-bottom: 1px solid gray;flex-grow: 1;}#sk-container-id-3 div.sk-label:hover label.sk-toggleable__label {background-color: #d4ebff;}#sk-container-id-3 div.sk-serial::before {content: \"\";position: absolute;border-left: 1px solid gray;box-sizing: border-box;top: 0;bottom: 0;left: 50%;z-index: 0;}#sk-container-id-3 div.sk-serial {display: flex;flex-direction: column;align-items: center;background-color: white;padding-right: 0.2em;padding-left: 0.2em;position: relative;}#sk-container-id-3 div.sk-item {position: relative;z-index: 1;}#sk-container-id-3 div.sk-parallel {display: flex;align-items: stretch;justify-content: center;background-color: white;position: relative;}#sk-container-id-3 div.sk-item::before, #sk-container-id-3 div.sk-parallel-item::before {content: \"\";position: absolute;border-left: 1px solid gray;box-sizing: border-box;top: 0;bottom: 0;left: 50%;z-index: -1;}#sk-container-id-3 div.sk-parallel-item {display: flex;flex-direction: column;z-index: 1;position: relative;background-color: white;}#sk-container-id-3 div.sk-parallel-item:first-child::after {align-self: flex-end;width: 50%;}#sk-container-id-3 div.sk-parallel-item:last-child::after {align-self: flex-start;width: 50%;}#sk-container-id-3 div.sk-parallel-item:only-child::after {width: 0;}#sk-container-id-3 div.sk-dashed-wrapped {border: 1px dashed gray;margin: 0 0.4em 0.5em 0.4em;box-sizing: border-box;padding-bottom: 0.4em;background-color: white;}#sk-container-id-3 div.sk-label label {font-family: monospace;font-weight: bold;display: inline-block;line-height: 1.2em;}#sk-container-id-3 div.sk-label-container {text-align: center;}#sk-container-id-3 div.sk-container {/* jupyter's `normalize.less` sets `[hidden] { display: none; }` but bootstrap.min.css set `[hidden] { display: none !important; }` so we also need the `!important` here to be able to override the default hidden behavior on the sphinx rendered scikit-learn.org. See: https://github.com/scikit-learn/scikit-learn/issues/21755 */display: inline-block !important;position: relative;}#sk-container-id-3 div.sk-text-repr-fallback {display: none;}</style><div id=\"sk-container-id-3\" class=\"sk-top-container\"><div class=\"sk-text-repr-fallback\"><pre>RandomForestClassifier(criterion=&#x27;entropy&#x27;, max_depth=50, random_state=42)</pre><b>In a Jupyter environment, please rerun this cell to show the HTML representation or trust the notebook. <br />On GitHub, the HTML representation is unable to render, please try loading this page with nbviewer.org.</b></div><div class=\"sk-container\" hidden><div class=\"sk-item\"><div class=\"sk-estimator sk-toggleable\"><input class=\"sk-toggleable__control sk-hidden--visually\" id=\"sk-estimator-id-3\" type=\"checkbox\" checked><label for=\"sk-estimator-id-3\" class=\"sk-toggleable__label sk-toggleable__label-arrow\">RandomForestClassifier</label><div class=\"sk-toggleable__content\"><pre>RandomForestClassifier(criterion=&#x27;entropy&#x27;, max_depth=50, random_state=42)</pre></div></div></div></div></div>"
      ],
      "text/plain": [
       "RandomForestClassifier(criterion='entropy', max_depth=50, random_state=42)"
      ]
     },
     "execution_count": 121,
     "metadata": {},
     "output_type": "execute_result"
    }
   ],
   "source": [
    "# Initiate hyperparameters\n",
    "params = {'max_depth':[50],'n_estimators':[100,150], \n",
    "          'criterion':['gini', 'entropy']}\n",
    "# Initiate model\n",
    "model = GridSearchCV(estimator=RandomForestClassifier(random_state=42),\n",
    "                     param_grid=params,scoring='recall', cv=5)\n",
    "# Fit model\n",
    "model.fit(xtrain,ytrain)\n",
    "y_pred = model.predict(xtest)\n",
    "# Get best estimator\n",
    "model.best_estimator_"
   ]
  },
  {
   "cell_type": "markdown",
   "id": "ff2391b7",
   "metadata": {},
   "source": [
    "### KNN"
   ]
  },
  {
   "cell_type": "code",
   "execution_count": 123,
   "id": "8ab35dd3",
   "metadata": {},
   "outputs": [
    {
     "data": {
      "text/html": [
       "<style>#sk-container-id-5 {color: black;background-color: white;}#sk-container-id-5 pre{padding: 0;}#sk-container-id-5 div.sk-toggleable {background-color: white;}#sk-container-id-5 label.sk-toggleable__label {cursor: pointer;display: block;width: 100%;margin-bottom: 0;padding: 0.3em;box-sizing: border-box;text-align: center;}#sk-container-id-5 label.sk-toggleable__label-arrow:before {content: \"▸\";float: left;margin-right: 0.25em;color: #696969;}#sk-container-id-5 label.sk-toggleable__label-arrow:hover:before {color: black;}#sk-container-id-5 div.sk-estimator:hover label.sk-toggleable__label-arrow:before {color: black;}#sk-container-id-5 div.sk-toggleable__content {max-height: 0;max-width: 0;overflow: hidden;text-align: left;background-color: #f0f8ff;}#sk-container-id-5 div.sk-toggleable__content pre {margin: 0.2em;color: black;border-radius: 0.25em;background-color: #f0f8ff;}#sk-container-id-5 input.sk-toggleable__control:checked~div.sk-toggleable__content {max-height: 200px;max-width: 100%;overflow: auto;}#sk-container-id-5 input.sk-toggleable__control:checked~label.sk-toggleable__label-arrow:before {content: \"▾\";}#sk-container-id-5 div.sk-estimator input.sk-toggleable__control:checked~label.sk-toggleable__label {background-color: #d4ebff;}#sk-container-id-5 div.sk-label input.sk-toggleable__control:checked~label.sk-toggleable__label {background-color: #d4ebff;}#sk-container-id-5 input.sk-hidden--visually {border: 0;clip: rect(1px 1px 1px 1px);clip: rect(1px, 1px, 1px, 1px);height: 1px;margin: -1px;overflow: hidden;padding: 0;position: absolute;width: 1px;}#sk-container-id-5 div.sk-estimator {font-family: monospace;background-color: #f0f8ff;border: 1px dotted black;border-radius: 0.25em;box-sizing: border-box;margin-bottom: 0.5em;}#sk-container-id-5 div.sk-estimator:hover {background-color: #d4ebff;}#sk-container-id-5 div.sk-parallel-item::after {content: \"\";width: 100%;border-bottom: 1px solid gray;flex-grow: 1;}#sk-container-id-5 div.sk-label:hover label.sk-toggleable__label {background-color: #d4ebff;}#sk-container-id-5 div.sk-serial::before {content: \"\";position: absolute;border-left: 1px solid gray;box-sizing: border-box;top: 0;bottom: 0;left: 50%;z-index: 0;}#sk-container-id-5 div.sk-serial {display: flex;flex-direction: column;align-items: center;background-color: white;padding-right: 0.2em;padding-left: 0.2em;position: relative;}#sk-container-id-5 div.sk-item {position: relative;z-index: 1;}#sk-container-id-5 div.sk-parallel {display: flex;align-items: stretch;justify-content: center;background-color: white;position: relative;}#sk-container-id-5 div.sk-item::before, #sk-container-id-5 div.sk-parallel-item::before {content: \"\";position: absolute;border-left: 1px solid gray;box-sizing: border-box;top: 0;bottom: 0;left: 50%;z-index: -1;}#sk-container-id-5 div.sk-parallel-item {display: flex;flex-direction: column;z-index: 1;position: relative;background-color: white;}#sk-container-id-5 div.sk-parallel-item:first-child::after {align-self: flex-end;width: 50%;}#sk-container-id-5 div.sk-parallel-item:last-child::after {align-self: flex-start;width: 50%;}#sk-container-id-5 div.sk-parallel-item:only-child::after {width: 0;}#sk-container-id-5 div.sk-dashed-wrapped {border: 1px dashed gray;margin: 0 0.4em 0.5em 0.4em;box-sizing: border-box;padding-bottom: 0.4em;background-color: white;}#sk-container-id-5 div.sk-label label {font-family: monospace;font-weight: bold;display: inline-block;line-height: 1.2em;}#sk-container-id-5 div.sk-label-container {text-align: center;}#sk-container-id-5 div.sk-container {/* jupyter's `normalize.less` sets `[hidden] { display: none; }` but bootstrap.min.css set `[hidden] { display: none !important; }` so we also need the `!important` here to be able to override the default hidden behavior on the sphinx rendered scikit-learn.org. See: https://github.com/scikit-learn/scikit-learn/issues/21755 */display: inline-block !important;position: relative;}#sk-container-id-5 div.sk-text-repr-fallback {display: none;}</style><div id=\"sk-container-id-5\" class=\"sk-top-container\"><div class=\"sk-text-repr-fallback\"><pre>KNeighborsClassifier(leaf_size=16, n_neighbors=1, p=1)</pre><b>In a Jupyter environment, please rerun this cell to show the HTML representation or trust the notebook. <br />On GitHub, the HTML representation is unable to render, please try loading this page with nbviewer.org.</b></div><div class=\"sk-container\" hidden><div class=\"sk-item\"><div class=\"sk-estimator sk-toggleable\"><input class=\"sk-toggleable__control sk-hidden--visually\" id=\"sk-estimator-id-5\" type=\"checkbox\" checked><label for=\"sk-estimator-id-5\" class=\"sk-toggleable__label sk-toggleable__label-arrow\">KNeighborsClassifier</label><div class=\"sk-toggleable__content\"><pre>KNeighborsClassifier(leaf_size=16, n_neighbors=1, p=1)</pre></div></div></div></div></div>"
      ],
      "text/plain": [
       "KNeighborsClassifier(leaf_size=16, n_neighbors=1, p=1)"
      ]
     },
     "execution_count": 123,
     "metadata": {},
     "output_type": "execute_result"
    }
   ],
   "source": [
    "#List Hyperparameters that we want to tune.\n",
    "leaf_size = list(range(1,50))\n",
    "n_neighbors = list(range(1,30))\n",
    "p=[1,2]\n",
    "\n",
    "#Convert to dictionary\n",
    "hyperparameters = dict(leaf_size=leaf_size, n_neighbors=n_neighbors, p=p)\n",
    "\n",
    "#Create new KNN object\n",
    "KNN_2 = KNeighborsClassifier()\n",
    "\n",
    "#Use RandomizedSearchCV\n",
    "clf = RandomizedSearchCV(KNN_2, hyperparameters, cv=10, scoring = 'recall')\n",
    "\n",
    "#Fit the model\n",
    "best_model = clf.fit(x,y)\n",
    "# Get best estimator\n",
    "clf.best_estimator_"
   ]
  },
  {
   "cell_type": "markdown",
   "id": "be919aca",
   "metadata": {},
   "source": [
    "## Tuned Parameter"
   ]
  },
  {
   "cell_type": "code",
   "execution_count": 134,
   "id": "71b66e69",
   "metadata": {},
   "outputs": [],
   "source": [
    "# Inititate best estimator\n",
    "lr_tune = LogisticRegression(C=0.0001, random_state=42)\n",
    "dt_tune = DecisionTreeClassifier(criterion='entropy', max_depth=4, max_features='sqrt',\n",
    "                       min_samples_leaf=12, min_samples_split=6,\n",
    "                       random_state=42)\n",
    "rf_tune = RandomForestClassifier(max_depth=50, random_state=42)\n",
    "knn_tune = KNeighborsClassifier(algorithm='auto', leaf_size=1, metric='minkowski',\n",
    "                     metric_params=None, n_jobs=None, n_neighbors=1, p=2,\n",
    "                     weights='uniform')\n",
    "\n",
    "# Create function to make the result as dataframe \n",
    "def model_comparison_tuned(x,y):  \n",
    "    \n",
    "    # Logistic Regression\n",
    "    lr_train_score, lr_test_score, lr_pr, lrtr_re, lrte_re, lr_f1, lr_auc = fit_evaluation(\n",
    "        lr_tune, xtrain, ytrain, xtest, ytest)\n",
    "    # Decision Tree\n",
    "    dt_train_score, dt_test_score, dt_pr, dttr_re, dtte_re, dt_f1, dt_auc = fit_evaluation(\n",
    "        dt_tune, xtrain, ytrain, xtest, ytest)\n",
    "    # Random Forest\n",
    "    rf_train_score, rf_test_score, rf_pr, rftr_re, rfte_re, rf_f1, rf_auc = fit_evaluation(\n",
    "        rf_tune, xtrain, ytrain, xtest, ytest)\n",
    "    # KNN\n",
    "    knn_train_score, knn_test_score, knn_pr, knntr_re, knnte_re, knn_f1, knn_auc = fit_evaluation(\n",
    "        knn_tune, xtrain, ytrain, xtest, ytest)\n",
    "    \n",
    "    models = ['Logistic Regression','Decision Tree','Random Forest','KNN']\n",
    "    train_score = [lr_train_score, dt_train_score, rf_train_score,knn_train_score]\n",
    "    test_score = [lr_test_score, dt_test_score, rf_test_score, knn_test_score]\n",
    "    precision = [lr_pr, dt_pr, rf_pr, knn_pr]\n",
    "    recall_train = [lrtr_re, dttr_re, rftr_re, knntr_re]\n",
    "    recall_test = [lrte_re, dtte_re, rfte_re, knnte_re]\n",
    "    f1 = [lr_f1, dt_f1, rf_f1, knn_f1]\n",
    "    auc = [lr_auc, dt_auc, rf_auc, knn_auc]\n",
    "    \n",
    "    model_comparison = pd.DataFrame(data=[models, train_score, test_score, \n",
    "                                          precision, recall_train, recall_test,\n",
    "                                          f1,auc]).T.rename({0: 'Model',\n",
    "                                                             1: 'Accuracy_Train',\n",
    "                                                             2: 'Accuracy_Test',\n",
    "                                                             3: 'Precision',\n",
    "                                                             4: 'Recall_Train',\n",
    "                                                             5: 'Recall_Test',\n",
    "                                                             6: 'F1 Score',\n",
    "                                                             7: 'AUC'\n",
    "                                                                                  }, axis=1)\n",
    "    \n",
    "    return model_comparison"
   ]
  },
  {
   "cell_type": "code",
   "execution_count": 135,
   "id": "4f080692",
   "metadata": {},
   "outputs": [
    {
     "data": {
      "text/html": [
       "<div>\n",
       "<style scoped>\n",
       "    .dataframe tbody tr th:only-of-type {\n",
       "        vertical-align: middle;\n",
       "    }\n",
       "\n",
       "    .dataframe tbody tr th {\n",
       "        vertical-align: top;\n",
       "    }\n",
       "\n",
       "    .dataframe thead th {\n",
       "        text-align: right;\n",
       "    }\n",
       "</style>\n",
       "<table border=\"1\" class=\"dataframe\">\n",
       "  <thead>\n",
       "    <tr style=\"text-align: right;\">\n",
       "      <th></th>\n",
       "      <th>Model</th>\n",
       "      <th>Accuracy_Train</th>\n",
       "      <th>Accuracy_Test</th>\n",
       "      <th>Precision</th>\n",
       "      <th>Recall_Train</th>\n",
       "      <th>Recall_Test</th>\n",
       "      <th>F1 Score</th>\n",
       "      <th>AUC</th>\n",
       "    </tr>\n",
       "  </thead>\n",
       "  <tbody>\n",
       "    <tr>\n",
       "      <th>0</th>\n",
       "      <td>Logistic Regression</td>\n",
       "      <td>0.59</td>\n",
       "      <td>0.59</td>\n",
       "      <td>0.59</td>\n",
       "      <td>1</td>\n",
       "      <td>1</td>\n",
       "      <td>0.75</td>\n",
       "      <td>0.5</td>\n",
       "    </tr>\n",
       "    <tr>\n",
       "      <th>1</th>\n",
       "      <td>Decision Tree</td>\n",
       "      <td>0.68</td>\n",
       "      <td>0.69</td>\n",
       "      <td>0.96</td>\n",
       "      <td>0.48</td>\n",
       "      <td>0.49</td>\n",
       "      <td>0.65</td>\n",
       "      <td>0.73</td>\n",
       "    </tr>\n",
       "    <tr>\n",
       "      <th>2</th>\n",
       "      <td>Random Forest</td>\n",
       "      <td>1</td>\n",
       "      <td>0.66</td>\n",
       "      <td>0.76</td>\n",
       "      <td>1</td>\n",
       "      <td>0.63</td>\n",
       "      <td>0.69</td>\n",
       "      <td>0.67</td>\n",
       "    </tr>\n",
       "    <tr>\n",
       "      <th>3</th>\n",
       "      <td>KNN</td>\n",
       "      <td>1</td>\n",
       "      <td>0.63</td>\n",
       "      <td>0.69</td>\n",
       "      <td>1</td>\n",
       "      <td>0.7</td>\n",
       "      <td>0.69</td>\n",
       "      <td>0.62</td>\n",
       "    </tr>\n",
       "  </tbody>\n",
       "</table>\n",
       "</div>"
      ],
      "text/plain": [
       "                 Model Accuracy_Train Accuracy_Test Precision Recall_Train  \\\n",
       "0  Logistic Regression           0.59          0.59      0.59            1   \n",
       "1        Decision Tree           0.68          0.69      0.96         0.48   \n",
       "2        Random Forest              1          0.66      0.76            1   \n",
       "3                  KNN              1          0.63      0.69            1   \n",
       "\n",
       "  Recall_Test F1 Score   AUC  \n",
       "0           1     0.75   0.5  \n",
       "1        0.49     0.65  0.73  \n",
       "2        0.63     0.69  0.67  \n",
       "3         0.7     0.69  0.62  "
      ]
     },
     "execution_count": 135,
     "metadata": {},
     "output_type": "execute_result"
    }
   ],
   "source": [
    "model_comparison_tuned(x,y)"
   ]
  },
  {
   "cell_type": "markdown",
   "id": "bc0ae7d3",
   "metadata": {},
   "source": [
    "Algoritma Decision Tree dengan hyperparameter tuning memiliki keseimbangan yang baik antara skornya, juga tidak underfitting maupun overfitting."
   ]
  },
  {
   "cell_type": "markdown",
   "id": "b4c42478",
   "metadata": {},
   "source": [
    "# Feature Importance"
   ]
  },
  {
   "cell_type": "code",
   "execution_count": 158,
   "id": "7613138f",
   "metadata": {},
   "outputs": [],
   "source": [
    "def show_feature_importance_dt(model):\n",
    "    feat_importances = pd.Series(dt_tune.feature_importances_, index=x.columns)\n",
    "    ax = feat_importances.nlargest(25).plot(kind='barh', figsize=(10, 8))\n",
    "    ax.invert_yaxis()\n",
    "\n",
    "    plt.xlabel('score')\n",
    "    plt.ylabel('feature')\n",
    "    plt.title('feature importance score')"
   ]
  },
  {
   "cell_type": "code",
   "execution_count": 159,
   "id": "14d02a01",
   "metadata": {},
   "outputs": [
    {
     "data": {
      "image/png": "[encoded data removed]",
      "text/plain": [
       "<Figure size 720x576 with 1 Axes>"
      ]
     },
     "metadata": {},
     "output_type": "display_data"
    }
   ],
   "source": [
    "show_feature_importance_dt(model.best_estimator_)"
   ]
  },
  {
   "cell_type": "markdown",
   "id": "c38ac98c",
   "metadata": {},
   "source": [
    "### Top 3 Feature Importance yang dapat diambil adalah:\n",
    "1. Berat barang (Weight_in_gms)\n",
    "2. Harga produk (Cost_of_the_Product_std)\n",
    "3. Diskon yang diberikan (Discount_offered)"
   ]
  },
  {
   "cell_type": "markdown",
   "id": "060250e4",
   "metadata": {},
   "source": [
    "### Business Insight:\n",
    "Untuk feature importance yang paling mempengaruhi keterlambatan pengiriman barang terletak pada fitur 'Berat Produk'. Dapat dilihat pada proses data preprocessing yang sudah dilaukan, terlihat bahwa nilai korelasi antara feature 'Berat Produk' dengan target 'Keterlambatan' memiliki nilai korelasi negatif. Jadi dapat disimpulkan bahwa berat produk mempengaruhi proses pengiriman, semakin berat suatu produk, maka semakin berpotensi mengalami keterlambatan pengiriman."
   ]
  },
  {
   "cell_type": "markdown",
   "id": "9e0085ca",
   "metadata": {},
   "source": [
    "### Action Items\n",
    "\n",
    "##### Short terms:\n",
    "Tambahkan feature perkiraan waktu kedatangan untuk memastikan paket tiba tepat waktu\n",
    "##### Long terms:\n",
    "Tambahkan lebih banyak featur untuk memberikan insight yang lebih spesifik dan akurat"
   ]
  }
 ],
 "metadata": {
  "colab": {
   "provenance": []
  },
  "kernelspec": {
   "display_name": "Python 3 (ipykernel)",
   "language": "python",
   "name": "python3"
  },
  "language_info": {
   "codemirror_mode": {
    "name": "ipython",
    "version": 3
   },
   "file_extension": ".py",
   "mimetype": "text/x-python",
   "name": "python",
   "nbconvert_exporter": "python",
   "pygments_lexer": "ipython3",
   "version": "3.9.12"
  }
 },
 "nbformat": 4,
 "nbformat_minor": 5
}
